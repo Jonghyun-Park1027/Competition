{
 "cells": [
  {
   "cell_type": "markdown",
   "metadata": {
    "pycharm": {
     "name": "#%% md\n"
    }
   },
   "source": [
    "# 2장. 지도 학습"
   ]
  },
  {
   "cell_type": "code",
   "execution_count": null,
   "outputs": [],
   "source": [],
   "metadata": {
    "collapsed": false,
    "pycharm": {
     "name": "#%%\n"
    }
   }
  },
  {
   "cell_type": "code",
   "execution_count": 1,
   "outputs": [],
   "source": [
    "class CFG:\n",
    "    SEED = 42"
   ],
   "metadata": {
    "collapsed": false,
    "pycharm": {
     "name": "#%%\n"
    }
   }
  },
  {
   "cell_type": "code",
   "execution_count": 2,
   "outputs": [],
   "source": [
    "import random\n",
    "import os\n",
    "import numpy as np\n",
    "#seed 고정\n",
    "def seed_everything(seed):\n",
    "    random.seed(seed)\n",
    "    os.environ['PYTHONHASHSEED'] = str(seed)\n",
    "    np.random.seed(seed)\n",
    "seed_everything(42) # Seed 고정"
   ],
   "metadata": {
    "collapsed": false,
    "pycharm": {
     "name": "#%%\n"
    }
   }
  },
  {
   "cell_type": "code",
   "execution_count": 3,
   "metadata": {
    "pycharm": {
     "name": "#%%\n"
    }
   },
   "outputs": [],
   "source": [
    "# # 노트북이 코랩에서 실행 중인지 체크합니다.\n",
    "# import os\n",
    "# import sys\n",
    "# if 'google.colab' in sys.modules and not os.path.isdir('mglearn'):\n",
    "#     # 사이킷런 최신 버전을 설치합니다.\n",
    "#     !pip install -q --upgrade scikit-learn\n",
    "#     # mglearn을 다운받고 압축을 풉니다.\n",
    "#     !wget -q -O mglearn.tar.gz https://bit.ly/mglearn-tar-gz\n",
    "#     !tar -xzf mglearn.tar.gz\n",
    "#     !wget -q -O data.tar.gz https://bit.ly/data-tar-gz\n",
    "#     !tar -xzf data.tar.gz\n",
    "#     # 나눔 폰트를 설치합니다.\n",
    "#     !sudo apt-get -qq -y install fonts-nanum\n",
    "#     import matplotlib.font_manager as fm\n",
    "#     fm._rebuild()"
   ]
  },
  {
   "cell_type": "code",
   "execution_count": 4,
   "metadata": {
    "hide_input": false,
    "scrolled": true,
    "pycharm": {
     "name": "#%%\n"
    }
   },
   "outputs": [],
   "source": [
    "\n",
    "# 나눔 폰트를 사용합니다.\n",
    "# from preamble import *\n",
    "import matplotlib\n",
    "# from preamble import *\n",
    "import matplotlib\n",
    "import matplotlib.pyplot as plt\n",
    "import mglearn\n",
    "import numpy as np\n",
    "import pandas as pd\n",
    "%matplotlib inline\n",
    "\n",
    "path = \"c:/Windows/Fonts/malgun.ttf\"\n",
    "font_name = matplotlib.font_manager.FontProperties(fname=path).get_name()\n",
    "# 나눔 폰트를 사용합니다.\n",
    "plt.rc('font', family=font_name)\n",
    "plt.rcParams['axes.unicode_minus'] = False\n",
    "# # 코랩에서 넘파이 경고를 나타내지 않기 위해\n",
    "# import sys\n",
    "# if 'google.colab' in sys.modules:\n",
    "#     import warnings\n",
    "#     warnings.filterwarnings(\"ignore\", category=np.VisibleDeprecationWarning)"
   ]
  },
  {
   "cell_type": "markdown",
   "metadata": {
    "collapsed": true,
    "pycharm": {
     "name": "#%% md\n"
    }
   },
   "source": [
    "## 2.1 분류와 회귀\n",
    "## 2.2 일반화, 과대적합, 과소적합\n",
    "### 2.2.1 모델 복잡도와 데이터셋 사이즈의 관계"
   ]
  },
  {
   "cell_type": "markdown",
   "metadata": {
    "pycharm": {
     "name": "#%% md\n"
    }
   },
   "source": [
    "## 2.3 지도 학습 알고리즘"
   ]
  },
  {
   "cell_type": "code",
   "execution_count": 4,
   "outputs": [],
   "source": [],
   "metadata": {
    "collapsed": false,
    "pycharm": {
     "name": "#%%\n"
    }
   }
  },
  {
   "cell_type": "code",
   "execution_count": 5,
   "outputs": [],
   "source": [
    "X= pd.read_csv('./train.csv')\n",
    "y = pd.read_csv('./test.csv')"
   ],
   "metadata": {
    "collapsed": false,
    "pycharm": {
     "name": "#%%\n"
    }
   }
  },
  {
   "cell_type": "code",
   "execution_count": 6,
   "outputs": [
    {
     "data": {
      "text/plain": "           id  father  mother  gender  trait SNP_01 SNP_02 SNP_03 SNP_04  \\\n0    TEST_000       0       0       0      1    A G    G G    A A    G A   \n1    TEST_001       0       0       0      2    G G    A G    C C    G G   \n2    TEST_002       0       0       0      2    G G    A G    A A    A A   \n3    TEST_003       0       0       0      2    G G    A G    C A    A A   \n4    TEST_004       0       0       0      1    A A    G G    A A    G G   \n..        ...     ...     ...     ...    ...    ...    ...    ...    ...   \n170  TEST_170       0       0       0      2    A G    G G    C C    A A   \n171  TEST_171       0       0       0      2    G G    A A    A A    A A   \n172  TEST_172       0       0       0      2    G G    A A    A A    A A   \n173  TEST_173       0       0       0      2    A G    G G    C A    G A   \n174  TEST_174       0       0       0      2    G G    G G    C C    G A   \n\n    SNP_05 SNP_06 SNP_07 SNP_08 SNP_09 SNP_10 SNP_11 SNP_12 SNP_13 SNP_14  \\\n0      A A    A G    G G    G A    G A    A G    A G    G A    G G    C A   \n1      C C    A A    A A    A A    A A    G G    A G    A A    A A    A A   \n2      C A    A G    A A    A A    A A    A G    A A    G A    G G    A A   \n3      C C    A A    A A    A A    A A    G G    A A    G A    A G    A A   \n4      A A    G G    G G    A A    G G    A G    G G    G A    G G    A A   \n..     ...    ...    ...    ...    ...    ...    ...    ...    ...    ...   \n170    C A    A G    A A    G G    A A    G G    G G    A A    A A    A A   \n171    C A    A G    A A    A A    A A    A G    A A    A A    A G    A A   \n172    C A    A G    A A    A A    A A    G G    A G    A A    A G    A A   \n173    C C    G G    A A    G A    A A    G G    A G    A A    A A    A A   \n174    C A    A A    G A    G G    A A    G G    G G    A A    A A    A A   \n\n    SNP_15  \n0      G A  \n1      A A  \n2      G G  \n3      A A  \n4      G G  \n..     ...  \n170    G A  \n171    G A  \n172    G G  \n173    A A  \n174    A A  \n\n[175 rows x 20 columns]",
      "text/html": "<div>\n<style scoped>\n    .dataframe tbody tr th:only-of-type {\n        vertical-align: middle;\n    }\n\n    .dataframe tbody tr th {\n        vertical-align: top;\n    }\n\n    .dataframe thead th {\n        text-align: right;\n    }\n</style>\n<table border=\"1\" class=\"dataframe\">\n  <thead>\n    <tr style=\"text-align: right;\">\n      <th></th>\n      <th>id</th>\n      <th>father</th>\n      <th>mother</th>\n      <th>gender</th>\n      <th>trait</th>\n      <th>SNP_01</th>\n      <th>SNP_02</th>\n      <th>SNP_03</th>\n      <th>SNP_04</th>\n      <th>SNP_05</th>\n      <th>SNP_06</th>\n      <th>SNP_07</th>\n      <th>SNP_08</th>\n      <th>SNP_09</th>\n      <th>SNP_10</th>\n      <th>SNP_11</th>\n      <th>SNP_12</th>\n      <th>SNP_13</th>\n      <th>SNP_14</th>\n      <th>SNP_15</th>\n    </tr>\n  </thead>\n  <tbody>\n    <tr>\n      <th>0</th>\n      <td>TEST_000</td>\n      <td>0</td>\n      <td>0</td>\n      <td>0</td>\n      <td>1</td>\n      <td>A G</td>\n      <td>G G</td>\n      <td>A A</td>\n      <td>G A</td>\n      <td>A A</td>\n      <td>A G</td>\n      <td>G G</td>\n      <td>G A</td>\n      <td>G A</td>\n      <td>A G</td>\n      <td>A G</td>\n      <td>G A</td>\n      <td>G G</td>\n      <td>C A</td>\n      <td>G A</td>\n    </tr>\n    <tr>\n      <th>1</th>\n      <td>TEST_001</td>\n      <td>0</td>\n      <td>0</td>\n      <td>0</td>\n      <td>2</td>\n      <td>G G</td>\n      <td>A G</td>\n      <td>C C</td>\n      <td>G G</td>\n      <td>C C</td>\n      <td>A A</td>\n      <td>A A</td>\n      <td>A A</td>\n      <td>A A</td>\n      <td>G G</td>\n      <td>A G</td>\n      <td>A A</td>\n      <td>A A</td>\n      <td>A A</td>\n      <td>A A</td>\n    </tr>\n    <tr>\n      <th>2</th>\n      <td>TEST_002</td>\n      <td>0</td>\n      <td>0</td>\n      <td>0</td>\n      <td>2</td>\n      <td>G G</td>\n      <td>A G</td>\n      <td>A A</td>\n      <td>A A</td>\n      <td>C A</td>\n      <td>A G</td>\n      <td>A A</td>\n      <td>A A</td>\n      <td>A A</td>\n      <td>A G</td>\n      <td>A A</td>\n      <td>G A</td>\n      <td>G G</td>\n      <td>A A</td>\n      <td>G G</td>\n    </tr>\n    <tr>\n      <th>3</th>\n      <td>TEST_003</td>\n      <td>0</td>\n      <td>0</td>\n      <td>0</td>\n      <td>2</td>\n      <td>G G</td>\n      <td>A G</td>\n      <td>C A</td>\n      <td>A A</td>\n      <td>C C</td>\n      <td>A A</td>\n      <td>A A</td>\n      <td>A A</td>\n      <td>A A</td>\n      <td>G G</td>\n      <td>A A</td>\n      <td>G A</td>\n      <td>A G</td>\n      <td>A A</td>\n      <td>A A</td>\n    </tr>\n    <tr>\n      <th>4</th>\n      <td>TEST_004</td>\n      <td>0</td>\n      <td>0</td>\n      <td>0</td>\n      <td>1</td>\n      <td>A A</td>\n      <td>G G</td>\n      <td>A A</td>\n      <td>G G</td>\n      <td>A A</td>\n      <td>G G</td>\n      <td>G G</td>\n      <td>A A</td>\n      <td>G G</td>\n      <td>A G</td>\n      <td>G G</td>\n      <td>G A</td>\n      <td>G G</td>\n      <td>A A</td>\n      <td>G G</td>\n    </tr>\n    <tr>\n      <th>...</th>\n      <td>...</td>\n      <td>...</td>\n      <td>...</td>\n      <td>...</td>\n      <td>...</td>\n      <td>...</td>\n      <td>...</td>\n      <td>...</td>\n      <td>...</td>\n      <td>...</td>\n      <td>...</td>\n      <td>...</td>\n      <td>...</td>\n      <td>...</td>\n      <td>...</td>\n      <td>...</td>\n      <td>...</td>\n      <td>...</td>\n      <td>...</td>\n      <td>...</td>\n    </tr>\n    <tr>\n      <th>170</th>\n      <td>TEST_170</td>\n      <td>0</td>\n      <td>0</td>\n      <td>0</td>\n      <td>2</td>\n      <td>A G</td>\n      <td>G G</td>\n      <td>C C</td>\n      <td>A A</td>\n      <td>C A</td>\n      <td>A G</td>\n      <td>A A</td>\n      <td>G G</td>\n      <td>A A</td>\n      <td>G G</td>\n      <td>G G</td>\n      <td>A A</td>\n      <td>A A</td>\n      <td>A A</td>\n      <td>G A</td>\n    </tr>\n    <tr>\n      <th>171</th>\n      <td>TEST_171</td>\n      <td>0</td>\n      <td>0</td>\n      <td>0</td>\n      <td>2</td>\n      <td>G G</td>\n      <td>A A</td>\n      <td>A A</td>\n      <td>A A</td>\n      <td>C A</td>\n      <td>A G</td>\n      <td>A A</td>\n      <td>A A</td>\n      <td>A A</td>\n      <td>A G</td>\n      <td>A A</td>\n      <td>A A</td>\n      <td>A G</td>\n      <td>A A</td>\n      <td>G A</td>\n    </tr>\n    <tr>\n      <th>172</th>\n      <td>TEST_172</td>\n      <td>0</td>\n      <td>0</td>\n      <td>0</td>\n      <td>2</td>\n      <td>G G</td>\n      <td>A A</td>\n      <td>A A</td>\n      <td>A A</td>\n      <td>C A</td>\n      <td>A G</td>\n      <td>A A</td>\n      <td>A A</td>\n      <td>A A</td>\n      <td>G G</td>\n      <td>A G</td>\n      <td>A A</td>\n      <td>A G</td>\n      <td>A A</td>\n      <td>G G</td>\n    </tr>\n    <tr>\n      <th>173</th>\n      <td>TEST_173</td>\n      <td>0</td>\n      <td>0</td>\n      <td>0</td>\n      <td>2</td>\n      <td>A G</td>\n      <td>G G</td>\n      <td>C A</td>\n      <td>G A</td>\n      <td>C C</td>\n      <td>G G</td>\n      <td>A A</td>\n      <td>G A</td>\n      <td>A A</td>\n      <td>G G</td>\n      <td>A G</td>\n      <td>A A</td>\n      <td>A A</td>\n      <td>A A</td>\n      <td>A A</td>\n    </tr>\n    <tr>\n      <th>174</th>\n      <td>TEST_174</td>\n      <td>0</td>\n      <td>0</td>\n      <td>0</td>\n      <td>2</td>\n      <td>G G</td>\n      <td>G G</td>\n      <td>C C</td>\n      <td>G A</td>\n      <td>C A</td>\n      <td>A A</td>\n      <td>G A</td>\n      <td>G G</td>\n      <td>A A</td>\n      <td>G G</td>\n      <td>G G</td>\n      <td>A A</td>\n      <td>A A</td>\n      <td>A A</td>\n      <td>A A</td>\n    </tr>\n  </tbody>\n</table>\n<p>175 rows × 20 columns</p>\n</div>"
     },
     "execution_count": 6,
     "metadata": {},
     "output_type": "execute_result"
    }
   ],
   "source": [
    "y"
   ],
   "metadata": {
    "collapsed": false,
    "pycharm": {
     "name": "#%%\n"
    }
   }
  },
  {
   "cell_type": "code",
   "execution_count": 7,
   "outputs": [],
   "source": [
    "compare = pd.read_csv('./answer/submit.csv')\n",
    "logis_compare = pd.read_csv('./answer/LogisticReg_submit.csv')"
   ],
   "metadata": {
    "collapsed": false,
    "pycharm": {
     "name": "#%%\n"
    }
   }
  },
  {
   "cell_type": "code",
   "execution_count": 8,
   "outputs": [],
   "source": [
    "from sklearn.metrics import classification_report, confusion_matrix,precision_score, recall_score, f1_score\n",
    "import seaborn as sns"
   ],
   "metadata": {
    "collapsed": false,
    "pycharm": {
     "name": "#%%\n"
    }
   }
  },
  {
   "cell_type": "code",
   "execution_count": 9,
   "outputs": [],
   "source": [
    "# 재활용1\n",
    "def get_x_y(df):\n",
    "    if 'class' in df.columns:\n",
    "        df_x = df.drop(columns=['id', 'class'])\n",
    "        df_y = df['class']\n",
    "        return df_x, df_y\n",
    "    else:\n",
    "        df_x = df.drop(columns=['id'])\n",
    "        return df_x\n",
    "X_train, y_train = get_x_y(X)\n",
    "X_test = get_x_y(y)"
   ],
   "metadata": {
    "collapsed": false,
    "pycharm": {
     "name": "#%%\n"
    }
   }
  },
  {
   "cell_type": "code",
   "execution_count": 10,
   "outputs": [],
   "source": [
    "X_train.replace(\"A A\", 1, inplace=True)\n",
    "X_train.replace(\"A G\", 2, inplace= True)\n",
    "X_train.replace(\"G A\", 3, inplace= True)\n",
    "X_train.replace(\"G G\", 4, inplace= True)\n",
    "X_train.replace(\"A C\", 5, inplace= True)\n",
    "X_train.replace(\"C A\", 6, inplace= True)\n",
    "X_train.replace(\"C C\", 7, inplace= True)\n",
    "X_test.replace(\"A A\", 1, inplace=True)\n",
    "X_test.replace(\"A G\", 2, inplace= True)\n",
    "X_test.replace(\"G A\", 3, inplace= True)\n",
    "X_test.replace(\"G G\", 4, inplace= True)\n",
    "X_test.replace(\"A C\", 5, inplace= True)\n",
    "X_test.replace(\"C A\", 6, inplace= True)\n",
    "X_test.replace(\"C C\", 7, inplace= True)"
   ],
   "metadata": {
    "collapsed": false,
    "pycharm": {
     "name": "#%%\n"
    }
   }
  },
  {
   "cell_type": "markdown",
   "metadata": {
    "pycharm": {
     "name": "#%% md\n"
    }
   },
   "source": [
    "### 2.3.2 k-최근접 이웃\n",
    "#### k-최근접 이웃 분류"
   ]
  },
  {
   "cell_type": "code",
   "execution_count": 11,
   "metadata": {
    "pycharm": {
     "name": "#%%\n"
    }
   },
   "outputs": [],
   "source": [
    "from sklearn.model_selection import train_test_split\n",
    "# X_train, y = mglearn.datasets.make_forge()\n",
    "\n",
    "# X_train, X_test, y_train, y_test = train_test_split(X_train, y, random_state=0)"
   ]
  },
  {
   "cell_type": "code",
   "execution_count": 12,
   "metadata": {
    "pycharm": {
     "name": "#%%\n"
    }
   },
   "outputs": [],
   "source": [
    "from sklearn.neighbors import KNeighborsClassifier\n",
    "clf = KNeighborsClassifier(n_neighbors=3)"
   ]
  },
  {
   "cell_type": "code",
   "execution_count": 13,
   "metadata": {
    "pycharm": {
     "name": "#%%\n"
    }
   },
   "outputs": [
    {
     "data": {
      "text/plain": "KNeighborsClassifier(n_neighbors=3)"
     },
     "execution_count": 13,
     "metadata": {},
     "output_type": "execute_result"
    }
   ],
   "source": [
    "clf.fit(X_train, y_train)"
   ]
  },
  {
   "cell_type": "code",
   "execution_count": 14,
   "metadata": {
    "pycharm": {
     "name": "#%%\n"
    }
   },
   "outputs": [
    {
     "name": "stdout",
     "output_type": "stream",
     "text": [
      "테스트 세트 예측: ['A' 'B' 'C' 'B' 'A' 'B' 'C' 'B' 'A' 'A' 'C' 'B' 'B' 'A' 'B' 'B' 'A' 'B'\n",
      " 'B' 'C' 'B' 'B' 'B' 'A' 'B' 'B' 'B' 'A' 'A' 'B' 'A' 'A' 'B' 'C' 'A' 'B'\n",
      " 'C' 'B' 'B' 'C' 'A' 'B' 'C' 'B' 'B' 'B' 'B' 'C' 'B' 'C' 'A' 'B' 'A' 'B'\n",
      " 'B' 'B' 'C' 'A' 'B' 'C' 'A' 'B' 'C' 'C' 'C' 'A' 'B' 'A' 'A' 'B' 'B' 'B'\n",
      " 'A' 'A' 'C' 'B' 'C' 'B' 'B' 'B' 'C' 'B' 'A' 'B' 'B' 'B' 'B' 'B' 'C' 'A'\n",
      " 'B' 'B' 'B' 'B' 'B' 'C' 'A' 'B' 'A' 'C' 'A' 'B' 'B' 'C' 'A' 'A' 'C' 'B'\n",
      " 'A' 'B' 'C' 'B' 'B' 'B' 'B' 'A' 'A' 'C' 'B' 'C' 'A' 'B' 'B' 'C' 'C' 'B'\n",
      " 'B' 'B' 'A' 'B' 'A' 'A' 'B' 'B' 'B' 'C' 'A' 'A' 'B' 'A' 'A' 'A' 'C' 'B'\n",
      " 'B' 'B' 'A' 'B' 'C' 'A' 'A' 'B' 'A' 'B' 'B' 'A' 'A' 'B' 'C' 'A' 'B' 'C'\n",
      " 'C' 'B' 'A' 'A' 'C' 'B' 'B' 'A' 'B' 'C' 'C' 'B' 'B']\n"
     ]
    },
    {
     "name": "stderr",
     "output_type": "stream",
     "text": [
      "C:\\Users\\ppjjh\\anaconda3\\envs\\language\\lib\\site-packages\\sklearn\\neighbors\\_classification.py:228: FutureWarning: Unlike other reduction functions (e.g. `skew`, `kurtosis`), the default behavior of `mode` typically preserves the axis it acts along. In SciPy 1.11.0, this behavior will change: the default value of `keepdims` will become False, the `axis` over which the statistic is taken will be eliminated, and the value None will no longer be accepted. Set `keepdims` to True or False to avoid this warning.\n",
      "  mode, _ = stats.mode(_y[neigh_ind, k], axis=1)\n"
     ]
    }
   ],
   "source": [
    "print(\"테스트 세트 예측:\", clf.predict(X_test))\n"
   ]
  },
  {
   "cell_type": "code",
   "execution_count": 15,
   "outputs": [],
   "source": [
    "\n",
    "submit = pd.read_csv('./sample_submission.csv')"
   ],
   "metadata": {
    "collapsed": false,
    "pycharm": {
     "name": "#%%\n"
    }
   }
  },
  {
   "cell_type": "code",
   "execution_count": 16,
   "outputs": [
    {
     "name": "stderr",
     "output_type": "stream",
     "text": [
      "C:\\Users\\ppjjh\\anaconda3\\envs\\language\\lib\\site-packages\\sklearn\\neighbors\\_classification.py:228: FutureWarning: Unlike other reduction functions (e.g. `skew`, `kurtosis`), the default behavior of `mode` typically preserves the axis it acts along. In SciPy 1.11.0, this behavior will change: the default value of `keepdims` will become False, the `axis` over which the statistic is taken will be eliminated, and the value None will no longer be accepted. Set `keepdims` to True or False to avoid this warning.\n",
      "  mode, _ = stats.mode(_y[neigh_ind, k], axis=1)\n"
     ]
    },
    {
     "data": {
      "text/plain": "        예측값(A)  예측값(B)  예측값(C)\n실제값(A)      51       0       0\n실제값(B)       0      85       1\n실제값(C)       0       2      36",
      "text/html": "<div>\n<style scoped>\n    .dataframe tbody tr th:only-of-type {\n        vertical-align: middle;\n    }\n\n    .dataframe tbody tr th {\n        vertical-align: top;\n    }\n\n    .dataframe thead th {\n        text-align: right;\n    }\n</style>\n<table border=\"1\" class=\"dataframe\">\n  <thead>\n    <tr style=\"text-align: right;\">\n      <th></th>\n      <th>예측값(A)</th>\n      <th>예측값(B)</th>\n      <th>예측값(C)</th>\n    </tr>\n  </thead>\n  <tbody>\n    <tr>\n      <th>실제값(A)</th>\n      <td>51</td>\n      <td>0</td>\n      <td>0</td>\n    </tr>\n    <tr>\n      <th>실제값(B)</th>\n      <td>0</td>\n      <td>85</td>\n      <td>1</td>\n    </tr>\n    <tr>\n      <th>실제값(C)</th>\n      <td>0</td>\n      <td>2</td>\n      <td>36</td>\n    </tr>\n  </tbody>\n</table>\n</div>"
     },
     "execution_count": 16,
     "metadata": {},
     "output_type": "execute_result"
    }
   ],
   "source": [
    "# 재활용2\n",
    "submit['class'] = clf.predict(X_test)\n",
    "cm2 = confusion_matrix(compare['class'],submit['class'])\n",
    "cmdf2 = pd.DataFrame(cm2\n",
    "                     , index=['실제값(A)', '실제값(B)','실제값(C)']\n",
    "                     , columns=['예측값(A)', '예측값(B)','예측값(C)']\n",
    "                     )\n",
    "\n",
    "submit.to_csv('./answer/knn_submit.csv', index=False)\n",
    "cmdf2"
   ],
   "metadata": {
    "collapsed": false,
    "pycharm": {
     "name": "#%%\n"
    }
   }
  },
  {
   "cell_type": "code",
   "execution_count": 17,
   "outputs": [],
   "source": [
    "y_test = compare['class']"
   ],
   "metadata": {
    "collapsed": false,
    "pycharm": {
     "name": "#%%\n"
    }
   }
  },
  {
   "cell_type": "code",
   "execution_count": 18,
   "metadata": {
    "pycharm": {
     "name": "#%%\n"
    }
   },
   "outputs": [
    {
     "name": "stdout",
     "output_type": "stream",
     "text": [
      "테스트 세트 정확도: 0.98\n"
     ]
    },
    {
     "name": "stderr",
     "output_type": "stream",
     "text": [
      "C:\\Users\\ppjjh\\anaconda3\\envs\\language\\lib\\site-packages\\sklearn\\neighbors\\_classification.py:228: FutureWarning: Unlike other reduction functions (e.g. `skew`, `kurtosis`), the default behavior of `mode` typically preserves the axis it acts along. In SciPy 1.11.0, this behavior will change: the default value of `keepdims` will become False, the `axis` over which the statistic is taken will be eliminated, and the value None will no longer be accepted. Set `keepdims` to True or False to avoid this warning.\n",
      "  mode, _ = stats.mode(_y[neigh_ind, k], axis=1)\n"
     ]
    }
   ],
   "source": [
    "print(\"테스트 세트 정확도: {:.2f}\".format(clf.score(X_test, y_test)))"
   ]
  },
  {
   "cell_type": "markdown",
   "metadata": {
    "pycharm": {
     "name": "#%% md\n"
    }
   },
   "source": [
    "### 2.3.3. 선형 모델\n",
    "#### 회귀의 선형 모델"
   ]
  },
  {
   "cell_type": "markdown",
   "metadata": {
    "pycharm": {
     "name": "#%% md\n"
    }
   },
   "source": [
    "#### 선형 회귀(최소제곱법)"
   ]
  },
  {
   "cell_type": "markdown",
   "metadata": {
    "pycharm": {
     "name": "#%% md\n"
    }
   },
   "source": [
    "#### 분류용 선형 모델"
   ]
  },
  {
   "cell_type": "code",
   "execution_count": 19,
   "outputs": [],
   "source": [
    "from sklearn.linear_model import LogisticRegression\n",
    "from sklearn.svm import LinearSVC"
   ],
   "metadata": {
    "collapsed": false,
    "pycharm": {
     "name": "#%%\n"
    }
   }
  },
  {
   "cell_type": "code",
   "execution_count": 20,
   "metadata": {
    "pycharm": {
     "name": "#%%\n"
    }
   },
   "outputs": [],
   "source": [
    "y_pred = LogisticRegression(max_iter=5000).fit(X_train, y_train).predict(X_test)\n"
   ]
  },
  {
   "cell_type": "code",
   "execution_count": 21,
   "outputs": [
    {
     "data": {
      "text/plain": "        예측값(A)  예측값(B)  예측값(C)\n실제값(A)      51       0       0\n실제값(B)       0      85       0\n실제값(C)       0       0      39",
      "text/html": "<div>\n<style scoped>\n    .dataframe tbody tr th:only-of-type {\n        vertical-align: middle;\n    }\n\n    .dataframe tbody tr th {\n        vertical-align: top;\n    }\n\n    .dataframe thead th {\n        text-align: right;\n    }\n</style>\n<table border=\"1\" class=\"dataframe\">\n  <thead>\n    <tr style=\"text-align: right;\">\n      <th></th>\n      <th>예측값(A)</th>\n      <th>예측값(B)</th>\n      <th>예측값(C)</th>\n    </tr>\n  </thead>\n  <tbody>\n    <tr>\n      <th>실제값(A)</th>\n      <td>51</td>\n      <td>0</td>\n      <td>0</td>\n    </tr>\n    <tr>\n      <th>실제값(B)</th>\n      <td>0</td>\n      <td>85</td>\n      <td>0</td>\n    </tr>\n    <tr>\n      <th>실제값(C)</th>\n      <td>0</td>\n      <td>0</td>\n      <td>39</td>\n    </tr>\n  </tbody>\n</table>\n</div>"
     },
     "execution_count": 21,
     "metadata": {},
     "output_type": "execute_result"
    }
   ],
   "source": [
    "# 재활용2\n",
    "submit['class'] = y_pred\n",
    "cm2 = confusion_matrix(logis_compare['class'], submit['class'])\n",
    "cmdf2 = pd.DataFrame(cm2\n",
    "                     , index=['실제값(A)', '실제값(B)', '실제값(C)']\n",
    "                     , columns=['예측값(A)', '예측값(B)', '예측값(C)']\n",
    "                     )\n",
    "\n",
    "submit.to_csv('./answer/LogisticReg_submit.csv', index=False)\n",
    "cmdf2"
   ],
   "metadata": {
    "collapsed": false,
    "pycharm": {
     "name": "#%%\n"
    }
   }
  },
  {
   "cell_type": "code",
   "execution_count": 22,
   "outputs": [],
   "source": [
    "idx_num = []"
   ],
   "metadata": {
    "collapsed": false,
    "pycharm": {
     "name": "#%%\n"
    }
   }
  },
  {
   "cell_type": "code",
   "execution_count": 62,
   "outputs": [
    {
     "name": "stdout",
     "output_type": "stream",
     "text": [
      "14\n",
      "126\n"
     ]
    }
   ],
   "source": [
    "y_pred = LogisticRegression(\n",
    "             penalty = \"l2\",\n",
    "             # *,\n",
    "             dual = False,\n",
    "             tol = 1e-4,\n",
    "             C = 5.45,\n",
    "             fit_intercept = True,\n",
    "             intercept_scaling = 1,\n",
    "             class_weight = None,\n",
    "             random_state = CFG.SEED,\n",
    "             solver = \"lbfgs\",\n",
    "             # max_iter: Any = 100,\n",
    "             multi_class = \"auto\",\n",
    "             verbose = 0,\n",
    "             warm_start = False,\n",
    "             n_jobs = None,\n",
    "             l1_ratio = None,\n",
    "            max_iter=5000\n",
    "                             ).fit(X_train, y_train).predict(X_test)\n",
    "\n",
    "# 재활용2\n",
    "submit['class'] = y_pred\n",
    "cm2 = confusion_matrix(logis_compare['class'], submit['class'])\n",
    "cmdf2 = pd.DataFrame(cm2\n",
    "                     , index=['실제값(A)', '실제값(B)', '실제값(C)']\n",
    "                     , columns=['예측값(A)', '예측값(B)', '예측값(C)']\n",
    "                     )\n",
    "submit.to_csv('./answer/LogisticReg_again_submit.csv', index=False)\n",
    "# cmdf2\n",
    "\n",
    "is_same = logis_compare[\"class\"] != y_pred\n",
    "for idx, value in enumerate(is_same) :\n",
    "    if value :\n",
    "        idx_num.append(idx)\n",
    "        print(idx)\n",
    "# y_pred"
   ],
   "metadata": {
    "collapsed": false,
    "pycharm": {
     "name": "#%%\n"
    }
   }
  },
  {
   "cell_type": "code",
   "execution_count": 63,
   "outputs": [
    {
     "data": {
      "text/plain": "    class class\n0       A     A\n1       B     B\n2       C     C\n3       C     C\n4       A     A\n..    ...   ...\n170     B     B\n171     C     C\n172     C     C\n173     B     B\n174     B     B\n\n[175 rows x 2 columns]",
      "text/html": "<div>\n<style scoped>\n    .dataframe tbody tr th:only-of-type {\n        vertical-align: middle;\n    }\n\n    .dataframe tbody tr th {\n        vertical-align: top;\n    }\n\n    .dataframe thead th {\n        text-align: right;\n    }\n</style>\n<table border=\"1\" class=\"dataframe\">\n  <thead>\n    <tr style=\"text-align: right;\">\n      <th></th>\n      <th>class</th>\n      <th>class</th>\n    </tr>\n  </thead>\n  <tbody>\n    <tr>\n      <th>0</th>\n      <td>A</td>\n      <td>A</td>\n    </tr>\n    <tr>\n      <th>1</th>\n      <td>B</td>\n      <td>B</td>\n    </tr>\n    <tr>\n      <th>2</th>\n      <td>C</td>\n      <td>C</td>\n    </tr>\n    <tr>\n      <th>3</th>\n      <td>C</td>\n      <td>C</td>\n    </tr>\n    <tr>\n      <th>4</th>\n      <td>A</td>\n      <td>A</td>\n    </tr>\n    <tr>\n      <th>...</th>\n      <td>...</td>\n      <td>...</td>\n    </tr>\n    <tr>\n      <th>170</th>\n      <td>B</td>\n      <td>B</td>\n    </tr>\n    <tr>\n      <th>171</th>\n      <td>C</td>\n      <td>C</td>\n    </tr>\n    <tr>\n      <th>172</th>\n      <td>C</td>\n      <td>C</td>\n    </tr>\n    <tr>\n      <th>173</th>\n      <td>B</td>\n      <td>B</td>\n    </tr>\n    <tr>\n      <th>174</th>\n      <td>B</td>\n      <td>B</td>\n    </tr>\n  </tbody>\n</table>\n<p>175 rows × 2 columns</p>\n</div>"
     },
     "execution_count": 63,
     "metadata": {},
     "output_type": "execute_result"
    }
   ],
   "source": [
    "pd.concat([logis_compare['class'], submit['class']], axis=1)"
   ],
   "metadata": {
    "collapsed": false,
    "pycharm": {
     "name": "#%%\n"
    }
   }
  },
  {
   "cell_type": "code",
   "execution_count": 153,
   "outputs": [],
   "source": [
    "# y_pred[3] = 'B'\n",
    "# y_pred[119] = 'B'"
   ],
   "metadata": {
    "collapsed": false,
    "pycharm": {
     "name": "#%%\n"
    }
   }
  },
  {
   "cell_type": "code",
   "execution_count": 154,
   "outputs": [],
   "source": [
    "# 3,119는 항상 C로 판단되는데 이걸 B로 바꾸면 어떨까 궁금해짐\n",
    "# submit['class'] = y_pred\n",
    "# submit.to_csv('./answer/test_manually_mod_submit.csv', index=False)\n"
   ],
   "metadata": {
    "collapsed": false,
    "pycharm": {
     "name": "#%%\n"
    }
   }
  },
  {
   "cell_type": "code",
   "execution_count": 142,
   "outputs": [
    {
     "data": {
      "text/plain": "{3, 14, 60, 103, 119, 126, 162}"
     },
     "execution_count": 142,
     "metadata": {},
     "output_type": "execute_result"
    }
   ],
   "source": [
    "# set(idx_num)"
   ],
   "metadata": {
    "collapsed": false,
    "pycharm": {
     "name": "#%%\n"
    }
   }
  },
  {
   "cell_type": "markdown",
   "metadata": {
    "pycharm": {
     "name": "#%% md\n"
    }
   },
   "source": [
    "### 2.3.4 나이브 베이즈 분류기"
   ]
  },
  {
   "cell_type": "code",
   "execution_count": 20,
   "outputs": [],
   "source": [
    "from sklearn.naive_bayes import CategoricalNB\n",
    "\n",
    "# 나이브 베이즈 모델 선언 및 학습\n",
    "model = CategoricalNB()\n",
    "model.fit(X_train, y_train)\n",
    "y_pred = model.predict(X_test)"
   ],
   "metadata": {
    "collapsed": false,
    "pycharm": {
     "name": "#%%\n"
    }
   }
  },
  {
   "cell_type": "code",
   "execution_count": 21,
   "outputs": [
    {
     "data": {
      "text/plain": "        예측값(A)  예측값(B)  예측값(C)\n실제값(A)      51       0       0\n실제값(B)       0      85       1\n실제값(C)       0       0      38",
      "text/html": "<div>\n<style scoped>\n    .dataframe tbody tr th:only-of-type {\n        vertical-align: middle;\n    }\n\n    .dataframe tbody tr th {\n        vertical-align: top;\n    }\n\n    .dataframe thead th {\n        text-align: right;\n    }\n</style>\n<table border=\"1\" class=\"dataframe\">\n  <thead>\n    <tr style=\"text-align: right;\">\n      <th></th>\n      <th>예측값(A)</th>\n      <th>예측값(B)</th>\n      <th>예측값(C)</th>\n    </tr>\n  </thead>\n  <tbody>\n    <tr>\n      <th>실제값(A)</th>\n      <td>51</td>\n      <td>0</td>\n      <td>0</td>\n    </tr>\n    <tr>\n      <th>실제값(B)</th>\n      <td>0</td>\n      <td>85</td>\n      <td>1</td>\n    </tr>\n    <tr>\n      <th>실제값(C)</th>\n      <td>0</td>\n      <td>0</td>\n      <td>38</td>\n    </tr>\n  </tbody>\n</table>\n</div>"
     },
     "execution_count": 21,
     "metadata": {},
     "output_type": "execute_result"
    }
   ],
   "source": [
    "# 재활용2\n",
    "submit['class'] = y_pred\n",
    "cm2 = confusion_matrix(compare['class'], submit['class'])\n",
    "cmdf2 = pd.DataFrame(cm2\n",
    "                     , index=['실제값(A)', '실제값(B)', '실제값(C)']\n",
    "                     , columns=['예측값(A)', '예측값(B)', '예측값(C)']\n",
    "                     )\n",
    "\n",
    "submit.to_csv('./answer/CategoricalNB_submit.csv', index=False)\n",
    "cmdf2"
   ],
   "metadata": {
    "collapsed": false,
    "pycharm": {
     "name": "#%%\n"
    }
   }
  },
  {
   "cell_type": "code",
   "execution_count": 22,
   "metadata": {
    "pycharm": {
     "name": "#%%\n"
    }
   },
   "outputs": [],
   "source": [
    "X = np.array([[0, 1, 0, 1],\n",
    "              [1, 0, 1, 1],\n",
    "              [0, 0, 0, 1],\n",
    "              [1, 0, 1, 0]])\n",
    "y = np.array([0, 1, 0, 1])"
   ]
  },
  {
   "cell_type": "code",
   "execution_count": 23,
   "metadata": {
    "pycharm": {
     "name": "#%%\n"
    }
   },
   "outputs": [
    {
     "name": "stdout",
     "output_type": "stream",
     "text": [
      "특성 카운트:\n",
      " {0: array([0, 1, 0, 2]), 1: array([2, 0, 2, 1])}\n"
     ]
    }
   ],
   "source": [
    "counts = {}\n",
    "for label in np.unique(y):\n",
    "    # 각 클래스에 대해 반복\n",
    "    # 특성마다 1 이 나타난 횟수를 센다.\n",
    "    counts[label] = X[y == label].sum(axis=0)\n",
    "print(\"특성 카운트:\\n\", counts)"
   ]
  },
  {
   "cell_type": "markdown",
   "metadata": {
    "pycharm": {
     "name": "#%% md\n"
    }
   },
   "source": [
    "#### 장단점과 매개변수"
   ]
  },
  {
   "cell_type": "markdown",
   "metadata": {
    "pycharm": {
     "name": "#%% md\n"
    }
   },
   "source": [
    "### 2.3.5 결정 트리"
   ]
  },
  {
   "cell_type": "markdown",
   "metadata": {
    "pycharm": {
     "name": "#%% md\n"
    }
   },
   "source": [
    "#### 결정 트리 만들기"
   ]
  },
  {
   "cell_type": "code",
   "execution_count": 24,
   "metadata": {
    "uuid": "6e5d7a76-9bba-42f7-b26e-907775d289b2",
    "pycharm": {
     "name": "#%%\n"
    }
   },
   "outputs": [
    {
     "name": "stdout",
     "output_type": "stream",
     "text": [
      "훈련 세트 정확도: 1.000\n",
      "테스트 세트 정확도: 0.949\n"
     ]
    }
   ],
   "source": [
    "from sklearn.tree import DecisionTreeClassifier\n",
    "\n",
    "# cancer = load_breast_cancer()\n",
    "# X_train, X_test, y_train, y_test = train_test_split(\n",
    "#     cancer.data, cancer.target, stratify=cancer.target, random_state=42)\n",
    "tree = DecisionTreeClassifier(random_state=0)\n",
    "tree.fit(X_train, y_train)\n",
    "print(\"훈련 세트 정확도: {:.3f}\".format(tree.score(X_train, y_train)))\n",
    "print(\"테스트 세트 정확도: {:.3f}\".format(tree.score(X_test, y_test)))"
   ]
  },
  {
   "cell_type": "code",
   "execution_count": 25,
   "outputs": [],
   "source": [
    "y_pred = tree.predict(X_test)"
   ],
   "metadata": {
    "collapsed": false,
    "pycharm": {
     "name": "#%%\n"
    }
   }
  },
  {
   "cell_type": "code",
   "execution_count": 26,
   "outputs": [
    {
     "data": {
      "text/plain": "        예측값(A)  예측값(B)  예측값(C)\n실제값(A)      51       0       0\n실제값(B)       0      78       8\n실제값(C)       0       1      37",
      "text/html": "<div>\n<style scoped>\n    .dataframe tbody tr th:only-of-type {\n        vertical-align: middle;\n    }\n\n    .dataframe tbody tr th {\n        vertical-align: top;\n    }\n\n    .dataframe thead th {\n        text-align: right;\n    }\n</style>\n<table border=\"1\" class=\"dataframe\">\n  <thead>\n    <tr style=\"text-align: right;\">\n      <th></th>\n      <th>예측값(A)</th>\n      <th>예측값(B)</th>\n      <th>예측값(C)</th>\n    </tr>\n  </thead>\n  <tbody>\n    <tr>\n      <th>실제값(A)</th>\n      <td>51</td>\n      <td>0</td>\n      <td>0</td>\n    </tr>\n    <tr>\n      <th>실제값(B)</th>\n      <td>0</td>\n      <td>78</td>\n      <td>8</td>\n    </tr>\n    <tr>\n      <th>실제값(C)</th>\n      <td>0</td>\n      <td>1</td>\n      <td>37</td>\n    </tr>\n  </tbody>\n</table>\n</div>"
     },
     "execution_count": 26,
     "metadata": {},
     "output_type": "execute_result"
    }
   ],
   "source": [
    "# 재활용2\n",
    "submit['class'] = y_pred\n",
    "cm2 = confusion_matrix(compare['class'], submit['class'])\n",
    "cmdf2 = pd.DataFrame(cm2\n",
    "                     , index=['실제값(A)', '실제값(B)', '실제값(C)']\n",
    "                     , columns=['예측값(A)', '예측값(B)', '예측값(C)']\n",
    "                     )\n",
    "\n",
    "submit.to_csv('./answer/Decision_again_submit.csv', index=False)\n",
    "cmdf2"
   ],
   "metadata": {
    "collapsed": false,
    "pycharm": {
     "name": "#%%\n"
    }
   }
  },
  {
   "cell_type": "code",
   "execution_count": 26,
   "outputs": [],
   "source": [],
   "metadata": {
    "collapsed": false,
    "pycharm": {
     "name": "#%%\n"
    }
   }
  },
  {
   "cell_type": "code",
   "execution_count": 27,
   "metadata": {
    "scrolled": true,
    "pycharm": {
     "name": "#%%\n"
    }
   },
   "outputs": [
    {
     "name": "stdout",
     "output_type": "stream",
     "text": [
      "훈련 세트 정확도: 0.920\n",
      "테스트 세트 정확도: 0.966\n"
     ]
    }
   ],
   "source": [
    "tree = DecisionTreeClassifier(max_depth=4, random_state=0)\n",
    "tree.fit(X_train, y_train)\n",
    "\n",
    "print(\"훈련 세트 정확도: {:.3f}\".format(tree.score(X_train, y_train)))\n",
    "print(\"테스트 세트 정확도: {:.3f}\".format(tree.score(X_test, y_test)))"
   ]
  },
  {
   "cell_type": "code",
   "execution_count": 28,
   "outputs": [],
   "source": [
    "y_pred = tree.predict(X_test)"
   ],
   "metadata": {
    "collapsed": false,
    "pycharm": {
     "name": "#%%\n"
    }
   }
  },
  {
   "cell_type": "code",
   "execution_count": 29,
   "outputs": [
    {
     "data": {
      "text/plain": "        예측값(A)  예측값(B)  예측값(C)\n실제값(A)      51       0       0\n실제값(B)       0      86       0\n실제값(C)       0       6      32",
      "text/html": "<div>\n<style scoped>\n    .dataframe tbody tr th:only-of-type {\n        vertical-align: middle;\n    }\n\n    .dataframe tbody tr th {\n        vertical-align: top;\n    }\n\n    .dataframe thead th {\n        text-align: right;\n    }\n</style>\n<table border=\"1\" class=\"dataframe\">\n  <thead>\n    <tr style=\"text-align: right;\">\n      <th></th>\n      <th>예측값(A)</th>\n      <th>예측값(B)</th>\n      <th>예측값(C)</th>\n    </tr>\n  </thead>\n  <tbody>\n    <tr>\n      <th>실제값(A)</th>\n      <td>51</td>\n      <td>0</td>\n      <td>0</td>\n    </tr>\n    <tr>\n      <th>실제값(B)</th>\n      <td>0</td>\n      <td>86</td>\n      <td>0</td>\n    </tr>\n    <tr>\n      <th>실제값(C)</th>\n      <td>0</td>\n      <td>6</td>\n      <td>32</td>\n    </tr>\n  </tbody>\n</table>\n</div>"
     },
     "execution_count": 29,
     "metadata": {},
     "output_type": "execute_result"
    }
   ],
   "source": [
    "# 재활용2\n",
    "submit['class'] = y_pred\n",
    "cm2 = confusion_matrix(compare['class'], submit['class'])\n",
    "cmdf2 = pd.DataFrame(cm2\n",
    "                     , index=['실제값(A)', '실제값(B)', '실제값(C)']\n",
    "                     , columns=['예측값(A)', '예측값(B)', '예측값(C)']\n",
    "                     )\n",
    "\n",
    "submit.to_csv('./answer/Decision_again_submit.csv', index=False)\n",
    "cmdf2"
   ],
   "metadata": {
    "collapsed": false,
    "pycharm": {
     "name": "#%%\n"
    }
   }
  },
  {
   "cell_type": "markdown",
   "metadata": {
    "pycharm": {
     "name": "#%% md\n"
    }
   },
   "source": [
    "#### 결정 트리 분석"
   ]
  },
  {
   "cell_type": "code",
   "execution_count": 30,
   "metadata": {
    "uuid": "dc2f68ee-0df0-47ed-b500-7ec99d5a0a5d",
    "pycharm": {
     "name": "#%%\n"
    }
   },
   "outputs": [
    {
     "name": "stdout",
     "output_type": "stream",
     "text": [
      "특성 중요도:\n",
      " [0.         0.         0.         0.56784953 0.         0.\n",
      " 0.         0.04694219 0.12406657 0.         0.         0.\n",
      " 0.         0.21770824 0.         0.         0.         0.04343347\n",
      " 0.        ]\n"
     ]
    }
   ],
   "source": [
    "print(\"특성 중요도:\\n\", tree.feature_importances_)"
   ]
  },
  {
   "cell_type": "code",
   "execution_count": 31,
   "metadata": {
    "pycharm": {
     "name": "#%%\n"
    }
   },
   "outputs": [
    {
     "data": {
      "text/plain": "<Figure size 640x480 with 1 Axes>",
      "image/png": "[encoded data removed]"
     },
     "metadata": {},
     "output_type": "display_data"
    }
   ],
   "source": [
    "def plot_feature_importances_cancer(model):\n",
    "    n_features = X_train.shape[1]\n",
    "    plt.barh(np.arange(n_features), model.feature_importances_, align='center')\n",
    "    plt.yticks(np.arange(n_features), X_train.iloc[0,:])\n",
    "    plt.xlabel(\"특성 중요도\")\n",
    "    plt.ylabel(\"특성\")\n",
    "    plt.ylim(-1, n_features)\n",
    "\n",
    "plot_feature_importances_cancer(tree)"
   ]
  },
  {
   "cell_type": "markdown",
   "metadata": {
    "pycharm": {
     "name": "#%% md\n"
    }
   },
   "source": [
    "### 2.3.6 결정 트리의 앙상블\n",
    "#### 랜덤 포레스트\n",
    "##### 랜덤 포레스트 구축\n",
    "##### 랜덤 포레스트 분석"
   ]
  },
  {
   "cell_type": "code",
   "execution_count": 32,
   "metadata": {
    "uuid": "b84dcdfe-994f-4a3d-842e-830153eefc59",
    "pycharm": {
     "name": "#%%\n"
    }
   },
   "outputs": [
    {
     "data": {
      "text/plain": "RandomForestClassifier(n_estimators=5, random_state=2)",
      "text/html": "<style>#sk-container-id-2 {color: black;background-color: white;}#sk-container-id-2 pre{padding: 0;}#sk-container-id-2 div.sk-toggleable {background-color: white;}#sk-container-id-2 label.sk-toggleable__label {cursor: pointer;display: block;width: 100%;margin-bottom: 0;padding: 0.3em;box-sizing: border-box;text-align: center;}#sk-container-id-2 label.sk-toggleable__label-arrow:before {content: \"▸\";float: left;margin-right: 0.25em;color: #696969;}#sk-container-id-2 label.sk-toggleable__label-arrow:hover:before {color: black;}#sk-container-id-2 div.sk-estimator:hover label.sk-toggleable__label-arrow:before {color: black;}#sk-container-id-2 div.sk-toggleable__content {max-height: 0;max-width: 0;overflow: hidden;text-align: left;background-color: #f0f8ff;}#sk-container-id-2 div.sk-toggleable__content pre {margin: 0.2em;color: black;border-radius: 0.25em;background-color: #f0f8ff;}#sk-container-id-2 input.sk-toggleable__control:checked~div.sk-toggleable__content {max-height: 200px;max-width: 100%;overflow: auto;}#sk-container-id-2 input.sk-toggleable__control:checked~label.sk-toggleable__label-arrow:before {content: \"▾\";}#sk-container-id-2 div.sk-estimator input.sk-toggleable__control:checked~label.sk-toggleable__label {background-color: #d4ebff;}#sk-container-id-2 div.sk-label input.sk-toggleable__control:checked~label.sk-toggleable__label {background-color: #d4ebff;}#sk-container-id-2 input.sk-hidden--visually {border: 0;clip: rect(1px 1px 1px 1px);clip: rect(1px, 1px, 1px, 1px);height: 1px;margin: -1px;overflow: hidden;padding: 0;position: absolute;width: 1px;}#sk-container-id-2 div.sk-estimator {font-family: monospace;background-color: #f0f8ff;border: 1px dotted black;border-radius: 0.25em;box-sizing: border-box;margin-bottom: 0.5em;}#sk-container-id-2 div.sk-estimator:hover {background-color: #d4ebff;}#sk-container-id-2 div.sk-parallel-item::after {content: \"\";width: 100%;border-bottom: 1px solid gray;flex-grow: 1;}#sk-container-id-2 div.sk-label:hover label.sk-toggleable__label {background-color: #d4ebff;}#sk-container-id-2 div.sk-serial::before {content: \"\";position: absolute;border-left: 1px solid gray;box-sizing: border-box;top: 0;bottom: 0;left: 50%;z-index: 0;}#sk-container-id-2 div.sk-serial {display: flex;flex-direction: column;align-items: center;background-color: white;padding-right: 0.2em;padding-left: 0.2em;position: relative;}#sk-container-id-2 div.sk-item {position: relative;z-index: 1;}#sk-container-id-2 div.sk-parallel {display: flex;align-items: stretch;justify-content: center;background-color: white;position: relative;}#sk-container-id-2 div.sk-item::before, #sk-container-id-2 div.sk-parallel-item::before {content: \"\";position: absolute;border-left: 1px solid gray;box-sizing: border-box;top: 0;bottom: 0;left: 50%;z-index: -1;}#sk-container-id-2 div.sk-parallel-item {display: flex;flex-direction: column;z-index: 1;position: relative;background-color: white;}#sk-container-id-2 div.sk-parallel-item:first-child::after {align-self: flex-end;width: 50%;}#sk-container-id-2 div.sk-parallel-item:last-child::after {align-self: flex-start;width: 50%;}#sk-container-id-2 div.sk-parallel-item:only-child::after {width: 0;}#sk-container-id-2 div.sk-dashed-wrapped {border: 1px dashed gray;margin: 0 0.4em 0.5em 0.4em;box-sizing: border-box;padding-bottom: 0.4em;background-color: white;}#sk-container-id-2 div.sk-label label {font-family: monospace;font-weight: bold;display: inline-block;line-height: 1.2em;}#sk-container-id-2 div.sk-label-container {text-align: center;}#sk-container-id-2 div.sk-container {/* jupyter's `normalize.less` sets `[hidden] { display: none; }` but bootstrap.min.css set `[hidden] { display: none !important; }` so we also need the `!important` here to be able to override the default hidden behavior on the sphinx rendered scikit-learn.org. See: https://github.com/scikit-learn/scikit-learn/issues/21755 */display: inline-block !important;position: relative;}#sk-container-id-2 div.sk-text-repr-fallback {display: none;}</style><div id=\"sk-container-id-2\" class=\"sk-top-container\"><div class=\"sk-text-repr-fallback\"><pre>RandomForestClassifier(n_estimators=5, random_state=2)</pre><b>In a Jupyter environment, please rerun this cell to show the HTML representation or trust the notebook. <br />On GitHub, the HTML representation is unable to render, please try loading this page with nbviewer.org.</b></div><div class=\"sk-container\" hidden><div class=\"sk-item\"><div class=\"sk-estimator sk-toggleable\"><input class=\"sk-toggleable__control sk-hidden--visually\" id=\"sk-estimator-id-2\" type=\"checkbox\" checked><label for=\"sk-estimator-id-2\" class=\"sk-toggleable__label sk-toggleable__label-arrow\">RandomForestClassifier</label><div class=\"sk-toggleable__content\"><pre>RandomForestClassifier(n_estimators=5, random_state=2)</pre></div></div></div></div></div>"
     },
     "execution_count": 32,
     "metadata": {},
     "output_type": "execute_result"
    }
   ],
   "source": [
    "from sklearn.ensemble import RandomForestClassifier\n",
    "# from sklearn.datasets import make_moons\n",
    "\n",
    "# X, y = make_moons(n_samples=100, noise=0.25, random_state=3)\n",
    "# X_train, X_test, y_train, y_test = train_test_split(X, y, stratify=y, random_state=42)\n",
    "\n",
    "forest = RandomForestClassifier(n_estimators=5, random_state=2)\n",
    "forest.fit(X_train, y_train)"
   ]
  },
  {
   "cell_type": "code",
   "execution_count": 33,
   "outputs": [
    {
     "data": {
      "text/plain": "        예측값(A)  예측값(B)  예측값(C)\n실제값(A)      51       0       0\n실제값(B)       0      86       0\n실제값(C)       0       0      38",
      "text/html": "<div>\n<style scoped>\n    .dataframe tbody tr th:only-of-type {\n        vertical-align: middle;\n    }\n\n    .dataframe tbody tr th {\n        vertical-align: top;\n    }\n\n    .dataframe thead th {\n        text-align: right;\n    }\n</style>\n<table border=\"1\" class=\"dataframe\">\n  <thead>\n    <tr style=\"text-align: right;\">\n      <th></th>\n      <th>예측값(A)</th>\n      <th>예측값(B)</th>\n      <th>예측값(C)</th>\n    </tr>\n  </thead>\n  <tbody>\n    <tr>\n      <th>실제값(A)</th>\n      <td>51</td>\n      <td>0</td>\n      <td>0</td>\n    </tr>\n    <tr>\n      <th>실제값(B)</th>\n      <td>0</td>\n      <td>86</td>\n      <td>0</td>\n    </tr>\n    <tr>\n      <th>실제값(C)</th>\n      <td>0</td>\n      <td>0</td>\n      <td>38</td>\n    </tr>\n  </tbody>\n</table>\n</div>"
     },
     "execution_count": 33,
     "metadata": {},
     "output_type": "execute_result"
    }
   ],
   "source": [
    "# X_train, X_test, y_train, y_test = train_test_split(\n",
    "#     cancer.data, cancer.target, random_state=0)\n",
    "forest = RandomForestClassifier(n_estimators=100, random_state=42)\n",
    "forest.fit(X_train, y_train)\n",
    "y_pred = forest.predict(X_test)\n",
    "# print(\"훈련 세트 정확도: {:.3f}\".format(forest.score(X_train, y_train)))\n",
    "# print(\"테스트 세트 정확도: {:.3f}\".format(forest.score(X_test, y_test)))\n",
    "# 재활용2\n",
    "submit['class'] = y_pred\n",
    "cm2 = confusion_matrix(compare['class'], submit['class'])\n",
    "cmdf2 = pd.DataFrame(cm2\n",
    "                     , index=['실제값(A)', '실제값(B)', '실제값(C)']\n",
    "                     , columns=['예측값(A)', '예측값(B)', '예측값(C)']\n",
    "                     )\n",
    "\n",
    "submit.to_csv('./answer/RandomForest_again_submit.csv', index=False)\n",
    "cmdf2"
   ],
   "metadata": {
    "collapsed": false,
    "pycharm": {
     "name": "#%%\n"
    }
   }
  },
  {
   "cell_type": "code",
   "execution_count": 95,
   "metadata": {
    "pycharm": {
     "name": "#%%\n"
    }
   },
   "outputs": [
    {
     "ename": "ValueError",
     "evalue": "The number of FixedLocator locations (19), usually from a call to set_ticks, does not match the number of ticklabels (262).",
     "output_type": "error",
     "traceback": [
      "\u001B[1;31m---------------------------------------------------------------------------\u001B[0m",
      "\u001B[1;31mValueError\u001B[0m                                Traceback (most recent call last)",
      "Cell \u001B[1;32mIn [95], line 1\u001B[0m\n\u001B[1;32m----> 1\u001B[0m \u001B[43mplot_feature_importances_cancer\u001B[49m\u001B[43m(\u001B[49m\u001B[43mforest\u001B[49m\u001B[43m)\u001B[49m\n",
      "Cell \u001B[1;32mIn [38], line 4\u001B[0m, in \u001B[0;36mplot_feature_importances_cancer\u001B[1;34m(model)\u001B[0m\n\u001B[0;32m      2\u001B[0m n_features \u001B[38;5;241m=\u001B[39m X_train\u001B[38;5;241m.\u001B[39mshape[\u001B[38;5;241m1\u001B[39m]\n\u001B[0;32m      3\u001B[0m plt\u001B[38;5;241m.\u001B[39mbarh(np\u001B[38;5;241m.\u001B[39marange(n_features), model\u001B[38;5;241m.\u001B[39mfeature_importances_, align\u001B[38;5;241m=\u001B[39m\u001B[38;5;124m'\u001B[39m\u001B[38;5;124mcenter\u001B[39m\u001B[38;5;124m'\u001B[39m)\n\u001B[1;32m----> 4\u001B[0m \u001B[43mplt\u001B[49m\u001B[38;5;241;43m.\u001B[39;49m\u001B[43myticks\u001B[49m\u001B[43m(\u001B[49m\u001B[43mnp\u001B[49m\u001B[38;5;241;43m.\u001B[39;49m\u001B[43marange\u001B[49m\u001B[43m(\u001B[49m\u001B[43mn_features\u001B[49m\u001B[43m)\u001B[49m\u001B[43m,\u001B[49m\u001B[43m \u001B[49m\u001B[43mX_train\u001B[49m\u001B[38;5;241;43m.\u001B[39;49m\u001B[43miloc\u001B[49m\u001B[43m[\u001B[49m\u001B[43m:\u001B[49m\u001B[43m,\u001B[49m\u001B[38;5;241;43m0\u001B[39;49m\u001B[43m]\u001B[49m\u001B[43m)\u001B[49m\n\u001B[0;32m      5\u001B[0m plt\u001B[38;5;241m.\u001B[39mxlabel(\u001B[38;5;124m\"\u001B[39m\u001B[38;5;124m특성 중요도\u001B[39m\u001B[38;5;124m\"\u001B[39m)\n\u001B[0;32m      6\u001B[0m plt\u001B[38;5;241m.\u001B[39mylabel(\u001B[38;5;124m\"\u001B[39m\u001B[38;5;124m특성\u001B[39m\u001B[38;5;124m\"\u001B[39m)\n",
      "File \u001B[1;32m~\\AppData\\Roaming\\Python\\Python39\\site-packages\\matplotlib\\pyplot.py:1855\u001B[0m, in \u001B[0;36myticks\u001B[1;34m(ticks, labels, **kwargs)\u001B[0m\n\u001B[0;32m   1853\u001B[0m         l\u001B[38;5;241m.\u001B[39mupdate(kwargs)\n\u001B[0;32m   1854\u001B[0m \u001B[38;5;28;01melse\u001B[39;00m:\n\u001B[1;32m-> 1855\u001B[0m     labels \u001B[38;5;241m=\u001B[39m ax\u001B[38;5;241m.\u001B[39mset_yticklabels(labels, \u001B[38;5;241m*\u001B[39m\u001B[38;5;241m*\u001B[39mkwargs)\n\u001B[0;32m   1857\u001B[0m \u001B[38;5;28;01mreturn\u001B[39;00m locs, labels\n",
      "File \u001B[1;32m~\\AppData\\Roaming\\Python\\Python39\\site-packages\\matplotlib\\axes\\_base.py:75\u001B[0m, in \u001B[0;36m_axis_method_wrapper.__set_name__.<locals>.wrapper\u001B[1;34m(self, *args, **kwargs)\u001B[0m\n\u001B[0;32m     74\u001B[0m \u001B[38;5;28;01mdef\u001B[39;00m \u001B[38;5;21mwrapper\u001B[39m(\u001B[38;5;28mself\u001B[39m, \u001B[38;5;241m*\u001B[39margs, \u001B[38;5;241m*\u001B[39m\u001B[38;5;241m*\u001B[39mkwargs):\n\u001B[1;32m---> 75\u001B[0m     \u001B[38;5;28;01mreturn\u001B[39;00m get_method(\u001B[38;5;28mself\u001B[39m)(\u001B[38;5;241m*\u001B[39margs, \u001B[38;5;241m*\u001B[39m\u001B[38;5;241m*\u001B[39mkwargs)\n",
      "File \u001B[1;32m~\\AppData\\Roaming\\Python\\Python39\\site-packages\\matplotlib\\axis.py:1798\u001B[0m, in \u001B[0;36mAxis._set_ticklabels\u001B[1;34m(self, labels, fontdict, minor, **kwargs)\u001B[0m\n\u001B[0;32m   1796\u001B[0m \u001B[38;5;28;01mif\u001B[39;00m fontdict \u001B[38;5;129;01mis\u001B[39;00m \u001B[38;5;129;01mnot\u001B[39;00m \u001B[38;5;28;01mNone\u001B[39;00m:\n\u001B[0;32m   1797\u001B[0m     kwargs\u001B[38;5;241m.\u001B[39mupdate(fontdict)\n\u001B[1;32m-> 1798\u001B[0m \u001B[38;5;28;01mreturn\u001B[39;00m \u001B[38;5;28mself\u001B[39m\u001B[38;5;241m.\u001B[39mset_ticklabels(labels, minor\u001B[38;5;241m=\u001B[39mminor, \u001B[38;5;241m*\u001B[39m\u001B[38;5;241m*\u001B[39mkwargs)\n",
      "File \u001B[1;32m~\\AppData\\Roaming\\Python\\Python39\\site-packages\\matplotlib\\axis.py:1720\u001B[0m, in \u001B[0;36mAxis.set_ticklabels\u001B[1;34m(self, ticklabels, minor, **kwargs)\u001B[0m\n\u001B[0;32m   1716\u001B[0m \u001B[38;5;28;01mif\u001B[39;00m \u001B[38;5;28misinstance\u001B[39m(locator, mticker\u001B[38;5;241m.\u001B[39mFixedLocator):\n\u001B[0;32m   1717\u001B[0m     \u001B[38;5;66;03m# Passing [] as a list of ticklabels is often used as a way to\u001B[39;00m\n\u001B[0;32m   1718\u001B[0m     \u001B[38;5;66;03m# remove all tick labels, so only error for > 0 ticklabels\u001B[39;00m\n\u001B[0;32m   1719\u001B[0m     \u001B[38;5;28;01mif\u001B[39;00m \u001B[38;5;28mlen\u001B[39m(locator\u001B[38;5;241m.\u001B[39mlocs) \u001B[38;5;241m!=\u001B[39m \u001B[38;5;28mlen\u001B[39m(ticklabels) \u001B[38;5;129;01mand\u001B[39;00m \u001B[38;5;28mlen\u001B[39m(ticklabels) \u001B[38;5;241m!=\u001B[39m \u001B[38;5;241m0\u001B[39m:\n\u001B[1;32m-> 1720\u001B[0m         \u001B[38;5;28;01mraise\u001B[39;00m \u001B[38;5;167;01mValueError\u001B[39;00m(\n\u001B[0;32m   1721\u001B[0m             \u001B[38;5;124m\"\u001B[39m\u001B[38;5;124mThe number of FixedLocator locations\u001B[39m\u001B[38;5;124m\"\u001B[39m\n\u001B[0;32m   1722\u001B[0m             \u001B[38;5;124mf\u001B[39m\u001B[38;5;124m\"\u001B[39m\u001B[38;5;124m (\u001B[39m\u001B[38;5;132;01m{\u001B[39;00m\u001B[38;5;28mlen\u001B[39m(locator\u001B[38;5;241m.\u001B[39mlocs)\u001B[38;5;132;01m}\u001B[39;00m\u001B[38;5;124m), usually from a call to\u001B[39m\u001B[38;5;124m\"\u001B[39m\n\u001B[0;32m   1723\u001B[0m             \u001B[38;5;124m\"\u001B[39m\u001B[38;5;124m set_ticks, does not match\u001B[39m\u001B[38;5;124m\"\u001B[39m\n\u001B[0;32m   1724\u001B[0m             \u001B[38;5;124mf\u001B[39m\u001B[38;5;124m\"\u001B[39m\u001B[38;5;124m the number of ticklabels (\u001B[39m\u001B[38;5;132;01m{\u001B[39;00m\u001B[38;5;28mlen\u001B[39m(ticklabels)\u001B[38;5;132;01m}\u001B[39;00m\u001B[38;5;124m).\u001B[39m\u001B[38;5;124m\"\u001B[39m)\n\u001B[0;32m   1725\u001B[0m     tickd \u001B[38;5;241m=\u001B[39m {loc: lab \u001B[38;5;28;01mfor\u001B[39;00m loc, lab \u001B[38;5;129;01min\u001B[39;00m \u001B[38;5;28mzip\u001B[39m(locator\u001B[38;5;241m.\u001B[39mlocs, ticklabels)}\n\u001B[0;32m   1726\u001B[0m     func \u001B[38;5;241m=\u001B[39m functools\u001B[38;5;241m.\u001B[39mpartial(\u001B[38;5;28mself\u001B[39m\u001B[38;5;241m.\u001B[39m_format_with_dict, tickd)\n",
      "\u001B[1;31mValueError\u001B[0m: The number of FixedLocator locations (19), usually from a call to set_ticks, does not match the number of ticklabels (262)."
     ]
    },
    {
     "data": {
      "text/plain": "<Figure size 640x480 with 1 Axes>",
      "image/png": "[encoded data removed]"
     },
     "metadata": {},
     "output_type": "display_data"
    }
   ],
   "source": [
    "plot_feature_importances_cancer(forest)"
   ]
  },
  {
   "cell_type": "markdown",
   "metadata": {
    "pycharm": {
     "name": "#%% md\n"
    }
   },
   "source": [
    "##### 장단점과 매개변수"
   ]
  },
  {
   "cell_type": "markdown",
   "metadata": {
    "pycharm": {
     "name": "#%% md\n"
    }
   },
   "source": [
    "#### 그래디언트 부스팅 회귀 트리"
   ]
  },
  {
   "cell_type": "code",
   "execution_count": 34,
   "metadata": {
    "pycharm": {
     "name": "#%%\n"
    }
   },
   "outputs": [],
   "source": [
    "from sklearn.ensemble import GradientBoostingClassifier\n",
    "\n",
    "# X_train, X_test, y_train, y_test = train_test_split(\n",
    "#     cancer.data, cancer.target, random_state=0)\n",
    "\n",
    "gbrt = GradientBoostingClassifier(random_state=0)\n",
    "gbrt.fit(X_train, y_train)\n",
    "y_pred = gbrt.predict(X_test)\n",
    "# print(\"훈련 세트 정확도: {:.3f}\".format(gbrt.score(X_train, y_train)))\n",
    "# print(\"테스트 세트 정확도: {:.3f}\".format(gbrt.score(X_test, y_test)))"
   ]
  },
  {
   "cell_type": "code",
   "execution_count": 35,
   "outputs": [
    {
     "data": {
      "text/plain": "        예측값(A)  예측값(B)  예측값(C)\n실제값(A)      51       0       0\n실제값(B)       0      86       0\n실제값(C)       0       0      38",
      "text/html": "<div>\n<style scoped>\n    .dataframe tbody tr th:only-of-type {\n        vertical-align: middle;\n    }\n\n    .dataframe tbody tr th {\n        vertical-align: top;\n    }\n\n    .dataframe thead th {\n        text-align: right;\n    }\n</style>\n<table border=\"1\" class=\"dataframe\">\n  <thead>\n    <tr style=\"text-align: right;\">\n      <th></th>\n      <th>예측값(A)</th>\n      <th>예측값(B)</th>\n      <th>예측값(C)</th>\n    </tr>\n  </thead>\n  <tbody>\n    <tr>\n      <th>실제값(A)</th>\n      <td>51</td>\n      <td>0</td>\n      <td>0</td>\n    </tr>\n    <tr>\n      <th>실제값(B)</th>\n      <td>0</td>\n      <td>86</td>\n      <td>0</td>\n    </tr>\n    <tr>\n      <th>실제값(C)</th>\n      <td>0</td>\n      <td>0</td>\n      <td>38</td>\n    </tr>\n  </tbody>\n</table>\n</div>"
     },
     "execution_count": 35,
     "metadata": {},
     "output_type": "execute_result"
    }
   ],
   "source": [
    "y_pred = forest.predict(X_test)\n",
    "# print(\"훈련 세트 정확도: {:.3f}\".format(forest.score(X_train, y_train)))\n",
    "# print(\"테스트 세트 정확도: {:.3f}\".format(forest.score(X_test, y_test)))\n",
    "# 재활용2\n",
    "submit['class'] = y_pred\n",
    "cm2 = confusion_matrix(compare['class'], submit['class'])\n",
    "cmdf2 = pd.DataFrame(cm2\n",
    "                     , index=['실제값(A)', '실제값(B)', '실제값(C)']\n",
    "                     , columns=['예측값(A)', '예측값(B)', '예측값(C)']\n",
    "                     )\n",
    "\n",
    "submit.to_csv('./answer/Gradient_submit.csv', index=False)\n",
    "cmdf2"
   ],
   "metadata": {
    "collapsed": false,
    "pycharm": {
     "name": "#%%\n"
    }
   }
  },
  {
   "cell_type": "code",
   "execution_count": 36,
   "metadata": {
    "pycharm": {
     "name": "#%%\n"
    }
   },
   "outputs": [
    {
     "data": {
      "text/plain": "GradientBoostingClassifier(max_depth=1, random_state=0)",
      "text/html": "<style>#sk-container-id-3 {color: black;background-color: white;}#sk-container-id-3 pre{padding: 0;}#sk-container-id-3 div.sk-toggleable {background-color: white;}#sk-container-id-3 label.sk-toggleable__label {cursor: pointer;display: block;width: 100%;margin-bottom: 0;padding: 0.3em;box-sizing: border-box;text-align: center;}#sk-container-id-3 label.sk-toggleable__label-arrow:before {content: \"▸\";float: left;margin-right: 0.25em;color: #696969;}#sk-container-id-3 label.sk-toggleable__label-arrow:hover:before {color: black;}#sk-container-id-3 div.sk-estimator:hover label.sk-toggleable__label-arrow:before {color: black;}#sk-container-id-3 div.sk-toggleable__content {max-height: 0;max-width: 0;overflow: hidden;text-align: left;background-color: #f0f8ff;}#sk-container-id-3 div.sk-toggleable__content pre {margin: 0.2em;color: black;border-radius: 0.25em;background-color: #f0f8ff;}#sk-container-id-3 input.sk-toggleable__control:checked~div.sk-toggleable__content {max-height: 200px;max-width: 100%;overflow: auto;}#sk-container-id-3 input.sk-toggleable__control:checked~label.sk-toggleable__label-arrow:before {content: \"▾\";}#sk-container-id-3 div.sk-estimator input.sk-toggleable__control:checked~label.sk-toggleable__label {background-color: #d4ebff;}#sk-container-id-3 div.sk-label input.sk-toggleable__control:checked~label.sk-toggleable__label {background-color: #d4ebff;}#sk-container-id-3 input.sk-hidden--visually {border: 0;clip: rect(1px 1px 1px 1px);clip: rect(1px, 1px, 1px, 1px);height: 1px;margin: -1px;overflow: hidden;padding: 0;position: absolute;width: 1px;}#sk-container-id-3 div.sk-estimator {font-family: monospace;background-color: #f0f8ff;border: 1px dotted black;border-radius: 0.25em;box-sizing: border-box;margin-bottom: 0.5em;}#sk-container-id-3 div.sk-estimator:hover {background-color: #d4ebff;}#sk-container-id-3 div.sk-parallel-item::after {content: \"\";width: 100%;border-bottom: 1px solid gray;flex-grow: 1;}#sk-container-id-3 div.sk-label:hover label.sk-toggleable__label {background-color: #d4ebff;}#sk-container-id-3 div.sk-serial::before {content: \"\";position: absolute;border-left: 1px solid gray;box-sizing: border-box;top: 0;bottom: 0;left: 50%;z-index: 0;}#sk-container-id-3 div.sk-serial {display: flex;flex-direction: column;align-items: center;background-color: white;padding-right: 0.2em;padding-left: 0.2em;position: relative;}#sk-container-id-3 div.sk-item {position: relative;z-index: 1;}#sk-container-id-3 div.sk-parallel {display: flex;align-items: stretch;justify-content: center;background-color: white;position: relative;}#sk-container-id-3 div.sk-item::before, #sk-container-id-3 div.sk-parallel-item::before {content: \"\";position: absolute;border-left: 1px solid gray;box-sizing: border-box;top: 0;bottom: 0;left: 50%;z-index: -1;}#sk-container-id-3 div.sk-parallel-item {display: flex;flex-direction: column;z-index: 1;position: relative;background-color: white;}#sk-container-id-3 div.sk-parallel-item:first-child::after {align-self: flex-end;width: 50%;}#sk-container-id-3 div.sk-parallel-item:last-child::after {align-self: flex-start;width: 50%;}#sk-container-id-3 div.sk-parallel-item:only-child::after {width: 0;}#sk-container-id-3 div.sk-dashed-wrapped {border: 1px dashed gray;margin: 0 0.4em 0.5em 0.4em;box-sizing: border-box;padding-bottom: 0.4em;background-color: white;}#sk-container-id-3 div.sk-label label {font-family: monospace;font-weight: bold;display: inline-block;line-height: 1.2em;}#sk-container-id-3 div.sk-label-container {text-align: center;}#sk-container-id-3 div.sk-container {/* jupyter's `normalize.less` sets `[hidden] { display: none; }` but bootstrap.min.css set `[hidden] { display: none !important; }` so we also need the `!important` here to be able to override the default hidden behavior on the sphinx rendered scikit-learn.org. See: https://github.com/scikit-learn/scikit-learn/issues/21755 */display: inline-block !important;position: relative;}#sk-container-id-3 div.sk-text-repr-fallback {display: none;}</style><div id=\"sk-container-id-3\" class=\"sk-top-container\"><div class=\"sk-text-repr-fallback\"><pre>GradientBoostingClassifier(max_depth=1, random_state=0)</pre><b>In a Jupyter environment, please rerun this cell to show the HTML representation or trust the notebook. <br />On GitHub, the HTML representation is unable to render, please try loading this page with nbviewer.org.</b></div><div class=\"sk-container\" hidden><div class=\"sk-item\"><div class=\"sk-estimator sk-toggleable\"><input class=\"sk-toggleable__control sk-hidden--visually\" id=\"sk-estimator-id-3\" type=\"checkbox\" checked><label for=\"sk-estimator-id-3\" class=\"sk-toggleable__label sk-toggleable__label-arrow\">GradientBoostingClassifier</label><div class=\"sk-toggleable__content\"><pre>GradientBoostingClassifier(max_depth=1, random_state=0)</pre></div></div></div></div></div>"
     },
     "execution_count": 36,
     "metadata": {},
     "output_type": "execute_result"
    }
   ],
   "source": [
    "gbrt = GradientBoostingClassifier(random_state=0, max_depth=1)\n",
    "gbrt.fit(X_train, y_train)\n",
    "\n",
    "# print(\"훈련 세트 정확도: {:.3f}\".format(gbrt.score(X_train, y_train)))\n",
    "# print(\"테스트 세트 정확도: {:.3f}\".format(gbrt.score(X_test, y_test)))"
   ]
  },
  {
   "cell_type": "code",
   "execution_count": 37,
   "outputs": [
    {
     "data": {
      "text/plain": "        예측값(A)  예측값(B)  예측값(C)\n실제값(A)      51       0       0\n실제값(B)       0      86       0\n실제값(C)       0       0      38",
      "text/html": "<div>\n<style scoped>\n    .dataframe tbody tr th:only-of-type {\n        vertical-align: middle;\n    }\n\n    .dataframe tbody tr th {\n        vertical-align: top;\n    }\n\n    .dataframe thead th {\n        text-align: right;\n    }\n</style>\n<table border=\"1\" class=\"dataframe\">\n  <thead>\n    <tr style=\"text-align: right;\">\n      <th></th>\n      <th>예측값(A)</th>\n      <th>예측값(B)</th>\n      <th>예측값(C)</th>\n    </tr>\n  </thead>\n  <tbody>\n    <tr>\n      <th>실제값(A)</th>\n      <td>51</td>\n      <td>0</td>\n      <td>0</td>\n    </tr>\n    <tr>\n      <th>실제값(B)</th>\n      <td>0</td>\n      <td>86</td>\n      <td>0</td>\n    </tr>\n    <tr>\n      <th>실제값(C)</th>\n      <td>0</td>\n      <td>0</td>\n      <td>38</td>\n    </tr>\n  </tbody>\n</table>\n</div>"
     },
     "execution_count": 37,
     "metadata": {},
     "output_type": "execute_result"
    }
   ],
   "source": [
    "y_pred = forest.predict(X_test)\n",
    "# print(\"훈련 세트 정확도: {:.3f}\".format(forest.score(X_train, y_train)))\n",
    "# print(\"테스트 세트 정확도: {:.3f}\".format(forest.score(X_test, y_test)))\n",
    "# 재활용2\n",
    "submit['class'] = y_pred\n",
    "cm2 = confusion_matrix(compare['class'], submit['class'])\n",
    "cmdf2 = pd.DataFrame(cm2\n",
    "                     , index=['실제값(A)', '실제값(B)', '실제값(C)']\n",
    "                     , columns=['예측값(A)', '예측값(B)', '예측값(C)']\n",
    "                     )\n",
    "\n",
    "submit.to_csv('./answer/Gradient_submit.csv', index=False)\n",
    "cmdf2"
   ],
   "metadata": {
    "collapsed": false,
    "pycharm": {
     "name": "#%%\n"
    }
   }
  },
  {
   "cell_type": "code",
   "execution_count": 62,
   "metadata": {
    "pycharm": {
     "name": "#%%\n"
    }
   },
   "outputs": [
    {
     "data": {
      "text/plain": "        예측값(A)  예측값(B)  예측값(C)\n실제값(A)      51       0       0\n실제값(B)       0      86       0\n실제값(C)       0       0      38",
      "text/html": "<div>\n<style scoped>\n    .dataframe tbody tr th:only-of-type {\n        vertical-align: middle;\n    }\n\n    .dataframe tbody tr th {\n        vertical-align: top;\n    }\n\n    .dataframe thead th {\n        text-align: right;\n    }\n</style>\n<table border=\"1\" class=\"dataframe\">\n  <thead>\n    <tr style=\"text-align: right;\">\n      <th></th>\n      <th>예측값(A)</th>\n      <th>예측값(B)</th>\n      <th>예측값(C)</th>\n    </tr>\n  </thead>\n  <tbody>\n    <tr>\n      <th>실제값(A)</th>\n      <td>51</td>\n      <td>0</td>\n      <td>0</td>\n    </tr>\n    <tr>\n      <th>실제값(B)</th>\n      <td>0</td>\n      <td>86</td>\n      <td>0</td>\n    </tr>\n    <tr>\n      <th>실제값(C)</th>\n      <td>0</td>\n      <td>0</td>\n      <td>38</td>\n    </tr>\n  </tbody>\n</table>\n</div>"
     },
     "execution_count": 62,
     "metadata": {},
     "output_type": "execute_result"
    }
   ],
   "source": [
    "gbrt = GradientBoostingClassifier(random_state=28, learning_rate=0.2, n_estimators=10, max_depth=1)\n",
    "gbrt.fit(X_train, y_train)\n",
    "\n",
    "# print(\"훈련 세트 정확도: {:.3f}\".format(gbrt.score(X_train, y_train)))\n",
    "# print(\"테스트 세트 정확도: {:.3f}\".format(gbrt.score(X_test, y_test)))\n",
    "y_pred = forest.predict(X_test)\n",
    "# print(\"훈련 세트 정확도: {:.3f}\".format(forest.score(X_train, y_train)))\n",
    "# print(\"테스트 세트 정확도: {:.3f}\".format(forest.score(X_test, y_test)))\n",
    "# 재활용2\n",
    "submit['class'] = y_pred\n",
    "cm2 = confusion_matrix(compare['class'], submit['class'])\n",
    "cmdf2 = pd.DataFrame(cm2\n",
    "                     , index=['실제값(A)', '실제값(B)', '실제값(C)']\n",
    "                     , columns=['예측값(A)', '예측값(B)', '예측값(C)']\n",
    "                     )\n",
    "\n",
    "submit.to_csv('./answer/Gradient_submit.csv', index=False)\n",
    "cmdf2"
   ]
  },
  {
   "cell_type": "code",
   "execution_count": 40,
   "metadata": {
    "pycharm": {
     "name": "#%%\n"
    }
   },
   "outputs": [
    {
     "data": {
      "text/plain": "<Figure size 640x480 with 1 Axes>",
      "image/png": "[encoded data removed]"
     },
     "metadata": {},
     "output_type": "display_data"
    }
   ],
   "source": [
    "gbrt = GradientBoostingClassifier(random_state=28, max_depth=1)\n",
    "gbrt.fit(X_train, y_train)\n",
    "\n",
    "plot_feature_importances_cancer(gbrt)"
   ]
  },
  {
   "cell_type": "code",
   "execution_count": 61,
   "outputs": [
    {
     "data": {
      "text/plain": "<Figure size 640x480 with 1 Axes>",
      "image/png": "[encoded data removed]"
     },
     "metadata": {},
     "output_type": "display_data"
    }
   ],
   "source": [
    "gbrt = GradientBoostingClassifier(random_state=28\n",
    "                                  , learning_rate=0.2\n",
    "                                  , n_estimators=100\n",
    "                                  , max_depth=1\n",
    "                                  )\n",
    "gbrt.fit(X_train, y_train)\n",
    "\n",
    "plot_feature_importances_cancer(gbrt)"
   ],
   "metadata": {
    "collapsed": false,
    "pycharm": {
     "name": "#%%\n"
    }
   }
  }
 ],
 "metadata": {
  "kernelspec": {
   "display_name": "Python 3 (ipykernel)",
   "language": "python",
   "name": "python3"
  },
  "language_info": {
   "codemirror_mode": {
    "name": "ipython",
    "version": 3
   },
   "file_extension": ".py",
   "mimetype": "text/x-python",
   "name": "python",
   "nbconvert_exporter": "python",
   "pygments_lexer": "ipython3",
   "version": "3.7.3"
  },
  "latex_metadata": {
   "author": "Andreas C. M\\\"ller",
   "title": "Machine Learning with Python"
  }
 },
 "nbformat": 4,
 "nbformat_minor": 1
}