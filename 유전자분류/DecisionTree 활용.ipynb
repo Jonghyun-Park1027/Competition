{
 "cells": [
  {
   "cell_type": "markdown",
   "id": "e3550806-e691-49de-8ed9-ebae92bd3867",
   "metadata": {
    "pycharm": {
     "name": "#%% md\n"
    }
   },
   "source": [
    "## Import"
   ]
  },
  {
   "cell_type": "code",
   "execution_count": 2,
   "id": "b84c8f41-8c9f-4e9c-9969-e98541e822af",
   "metadata": {
    "pycharm": {
     "name": "#%%\n"
    }
   },
   "outputs": [],
   "source": [
    "import pandas as pd\n",
    "import random\n",
    "import os\n",
    "import numpy as np\n",
    "from sklearn.tree import DecisionTreeClassifier\n",
    "from sklearn import preprocessing\n",
    "from sklearn.ensemble import RandomForestClassifier\n",
    "import pandas_profiling"
   ]
  },
  {
   "cell_type": "code",
   "execution_count": 3,
   "id": "824a7f14-b0f5-49c8-b030-1fe9873c46f9",
   "metadata": {
    "pycharm": {
     "name": "#%%\n"
    }
   },
   "outputs": [],
   "source": [
    "class CFG:\n",
    "    SEED = 42"
   ]
  },
  {
   "cell_type": "code",
   "execution_count": 4,
   "id": "1d06422f-e260-46ad-846f-0cfa40d2801b",
   "metadata": {
    "pycharm": {
     "name": "#%%\n"
    }
   },
   "outputs": [],
   "source": [
    "def seed_everything(seed):\n",
    "    random.seed(seed)\n",
    "    os.environ['PYTHONHASHSEED'] = str(seed)\n",
    "    np.random.seed(seed)\n",
    "seed_everything(CFG.SEED) # Seed 고정"
   ]
  },
  {
   "cell_type": "code",
   "execution_count": 4,
   "outputs": [],
   "source": [],
   "metadata": {
    "collapsed": false,
    "pycharm": {
     "name": "#%%\n"
    }
   }
  },
  {
   "cell_type": "markdown",
   "id": "b9e7de47-f4b8-4589-b9d3-e353a975e939",
   "metadata": {
    "pycharm": {
     "name": "#%% md\n"
    }
   },
   "source": [
    "## Data Load"
   ]
  },
  {
   "cell_type": "code",
   "execution_count": 5,
   "id": "34f899fd-fbb4-48bc-9ec5-3eb5a68564cb",
   "metadata": {
    "pycharm": {
     "name": "#%%\n"
    }
   },
   "outputs": [],
   "source": [
    "train = pd.read_csv('./train.csv')\n",
    "test = pd.read_csv('./test.csv')"
   ]
  },
  {
   "cell_type": "code",
   "execution_count": 6,
   "outputs": [
    {
     "data": {
      "text/plain": "            id  father  mother  gender  trait SNP_01 SNP_02 SNP_03 SNP_04  \\\n0    TRAIN_000       0       0       0      2    G G    A G    A A    G A   \n1    TRAIN_001       0       0       0      2    A G    A G    C A    A A   \n2    TRAIN_002       0       0       0      2    G G    G G    A A    G A   \n3    TRAIN_003       0       0       0      1    A A    G G    A A    G A   \n4    TRAIN_004       0       0       0      2    G G    G G    C C    A A   \n..         ...     ...     ...     ...    ...    ...    ...    ...    ...   \n257  TRAIN_257       0       0       0      2    A G    A G    A A    G A   \n258  TRAIN_258       0       0       0      2    G G    A A    C A    A A   \n259  TRAIN_259       0       0       0      1    A G    G G    A A    G A   \n260  TRAIN_260       0       0       0      1    A A    G G    A A    G A   \n261  TRAIN_261       0       0       0      2    G G    A G    C A    G G   \n\n    SNP_05  ... SNP_07 SNP_08 SNP_09 SNP_10 SNP_11 SNP_12 SNP_13 SNP_14  \\\n0      C A  ...    A A    G G    A A    G G    A G    A A    A A    A A   \n1      A A  ...    A A    G A    A A    A G    A A    G A    G G    A A   \n2      C C  ...    A A    G A    G A    A G    A A    A A    A A    A A   \n3      A A  ...    G G    A A    G G    A G    G G    G G    G G    A A   \n4      C C  ...    A A    A A    A A    G G    A A    A A    A G    A A   \n..     ...  ...    ...    ...    ...    ...    ...    ...    ...    ...   \n257    C C  ...    A A    G A    A A    G G    A G    G A    A A    A A   \n258    A A  ...    G A    G A    A A    A G    A G    A A    A G    A A   \n259    A A  ...    G G    G A    G A    A A    G G    G G    G G    C A   \n260    A A  ...    G G    A A    G A    A G    A G    G A    G G    C A   \n261    C C  ...    A A    A A    A A    G G    A A    A A    G G    A A   \n\n    SNP_15 class  \n0      A A     B  \n1      A A     C  \n2      A A     B  \n3      G G     A  \n4      G A     C  \n..     ...   ...  \n257    A A     B  \n258    G A     C  \n259    G G     A  \n260    G G     A  \n261    G A     B  \n\n[262 rows x 21 columns]",
      "text/html": "<div>\n<style scoped>\n    .dataframe tbody tr th:only-of-type {\n        vertical-align: middle;\n    }\n\n    .dataframe tbody tr th {\n        vertical-align: top;\n    }\n\n    .dataframe thead th {\n        text-align: right;\n    }\n</style>\n<table border=\"1\" class=\"dataframe\">\n  <thead>\n    <tr style=\"text-align: right;\">\n      <th></th>\n      <th>id</th>\n      <th>father</th>\n      <th>mother</th>\n      <th>gender</th>\n      <th>trait</th>\n      <th>SNP_01</th>\n      <th>SNP_02</th>\n      <th>SNP_03</th>\n      <th>SNP_04</th>\n      <th>SNP_05</th>\n      <th>...</th>\n      <th>SNP_07</th>\n      <th>SNP_08</th>\n      <th>SNP_09</th>\n      <th>SNP_10</th>\n      <th>SNP_11</th>\n      <th>SNP_12</th>\n      <th>SNP_13</th>\n      <th>SNP_14</th>\n      <th>SNP_15</th>\n      <th>class</th>\n    </tr>\n  </thead>\n  <tbody>\n    <tr>\n      <th>0</th>\n      <td>TRAIN_000</td>\n      <td>0</td>\n      <td>0</td>\n      <td>0</td>\n      <td>2</td>\n      <td>G G</td>\n      <td>A G</td>\n      <td>A A</td>\n      <td>G A</td>\n      <td>C A</td>\n      <td>...</td>\n      <td>A A</td>\n      <td>G G</td>\n      <td>A A</td>\n      <td>G G</td>\n      <td>A G</td>\n      <td>A A</td>\n      <td>A A</td>\n      <td>A A</td>\n      <td>A A</td>\n      <td>B</td>\n    </tr>\n    <tr>\n      <th>1</th>\n      <td>TRAIN_001</td>\n      <td>0</td>\n      <td>0</td>\n      <td>0</td>\n      <td>2</td>\n      <td>A G</td>\n      <td>A G</td>\n      <td>C A</td>\n      <td>A A</td>\n      <td>A A</td>\n      <td>...</td>\n      <td>A A</td>\n      <td>G A</td>\n      <td>A A</td>\n      <td>A G</td>\n      <td>A A</td>\n      <td>G A</td>\n      <td>G G</td>\n      <td>A A</td>\n      <td>A A</td>\n      <td>C</td>\n    </tr>\n    <tr>\n      <th>2</th>\n      <td>TRAIN_002</td>\n      <td>0</td>\n      <td>0</td>\n      <td>0</td>\n      <td>2</td>\n      <td>G G</td>\n      <td>G G</td>\n      <td>A A</td>\n      <td>G A</td>\n      <td>C C</td>\n      <td>...</td>\n      <td>A A</td>\n      <td>G A</td>\n      <td>G A</td>\n      <td>A G</td>\n      <td>A A</td>\n      <td>A A</td>\n      <td>A A</td>\n      <td>A A</td>\n      <td>A A</td>\n      <td>B</td>\n    </tr>\n    <tr>\n      <th>3</th>\n      <td>TRAIN_003</td>\n      <td>0</td>\n      <td>0</td>\n      <td>0</td>\n      <td>1</td>\n      <td>A A</td>\n      <td>G G</td>\n      <td>A A</td>\n      <td>G A</td>\n      <td>A A</td>\n      <td>...</td>\n      <td>G G</td>\n      <td>A A</td>\n      <td>G G</td>\n      <td>A G</td>\n      <td>G G</td>\n      <td>G G</td>\n      <td>G G</td>\n      <td>A A</td>\n      <td>G G</td>\n      <td>A</td>\n    </tr>\n    <tr>\n      <th>4</th>\n      <td>TRAIN_004</td>\n      <td>0</td>\n      <td>0</td>\n      <td>0</td>\n      <td>2</td>\n      <td>G G</td>\n      <td>G G</td>\n      <td>C C</td>\n      <td>A A</td>\n      <td>C C</td>\n      <td>...</td>\n      <td>A A</td>\n      <td>A A</td>\n      <td>A A</td>\n      <td>G G</td>\n      <td>A A</td>\n      <td>A A</td>\n      <td>A G</td>\n      <td>A A</td>\n      <td>G A</td>\n      <td>C</td>\n    </tr>\n    <tr>\n      <th>...</th>\n      <td>...</td>\n      <td>...</td>\n      <td>...</td>\n      <td>...</td>\n      <td>...</td>\n      <td>...</td>\n      <td>...</td>\n      <td>...</td>\n      <td>...</td>\n      <td>...</td>\n      <td>...</td>\n      <td>...</td>\n      <td>...</td>\n      <td>...</td>\n      <td>...</td>\n      <td>...</td>\n      <td>...</td>\n      <td>...</td>\n      <td>...</td>\n      <td>...</td>\n      <td>...</td>\n    </tr>\n    <tr>\n      <th>257</th>\n      <td>TRAIN_257</td>\n      <td>0</td>\n      <td>0</td>\n      <td>0</td>\n      <td>2</td>\n      <td>A G</td>\n      <td>A G</td>\n      <td>A A</td>\n      <td>G A</td>\n      <td>C C</td>\n      <td>...</td>\n      <td>A A</td>\n      <td>G A</td>\n      <td>A A</td>\n      <td>G G</td>\n      <td>A G</td>\n      <td>G A</td>\n      <td>A A</td>\n      <td>A A</td>\n      <td>A A</td>\n      <td>B</td>\n    </tr>\n    <tr>\n      <th>258</th>\n      <td>TRAIN_258</td>\n      <td>0</td>\n      <td>0</td>\n      <td>0</td>\n      <td>2</td>\n      <td>G G</td>\n      <td>A A</td>\n      <td>C A</td>\n      <td>A A</td>\n      <td>A A</td>\n      <td>...</td>\n      <td>G A</td>\n      <td>G A</td>\n      <td>A A</td>\n      <td>A G</td>\n      <td>A G</td>\n      <td>A A</td>\n      <td>A G</td>\n      <td>A A</td>\n      <td>G A</td>\n      <td>C</td>\n    </tr>\n    <tr>\n      <th>259</th>\n      <td>TRAIN_259</td>\n      <td>0</td>\n      <td>0</td>\n      <td>0</td>\n      <td>1</td>\n      <td>A G</td>\n      <td>G G</td>\n      <td>A A</td>\n      <td>G A</td>\n      <td>A A</td>\n      <td>...</td>\n      <td>G G</td>\n      <td>G A</td>\n      <td>G A</td>\n      <td>A A</td>\n      <td>G G</td>\n      <td>G G</td>\n      <td>G G</td>\n      <td>C A</td>\n      <td>G G</td>\n      <td>A</td>\n    </tr>\n    <tr>\n      <th>260</th>\n      <td>TRAIN_260</td>\n      <td>0</td>\n      <td>0</td>\n      <td>0</td>\n      <td>1</td>\n      <td>A A</td>\n      <td>G G</td>\n      <td>A A</td>\n      <td>G A</td>\n      <td>A A</td>\n      <td>...</td>\n      <td>G G</td>\n      <td>A A</td>\n      <td>G A</td>\n      <td>A G</td>\n      <td>A G</td>\n      <td>G A</td>\n      <td>G G</td>\n      <td>C A</td>\n      <td>G G</td>\n      <td>A</td>\n    </tr>\n    <tr>\n      <th>261</th>\n      <td>TRAIN_261</td>\n      <td>0</td>\n      <td>0</td>\n      <td>0</td>\n      <td>2</td>\n      <td>G G</td>\n      <td>A G</td>\n      <td>C A</td>\n      <td>G G</td>\n      <td>C C</td>\n      <td>...</td>\n      <td>A A</td>\n      <td>A A</td>\n      <td>A A</td>\n      <td>G G</td>\n      <td>A A</td>\n      <td>A A</td>\n      <td>G G</td>\n      <td>A A</td>\n      <td>G A</td>\n      <td>B</td>\n    </tr>\n  </tbody>\n</table>\n<p>262 rows × 21 columns</p>\n</div>"
     },
     "execution_count": 6,
     "metadata": {},
     "output_type": "execute_result"
    }
   ],
   "source": [
    "train"
   ],
   "metadata": {
    "collapsed": false,
    "pycharm": {
     "name": "#%%\n"
    }
   }
  },
  {
   "cell_type": "code",
   "execution_count": 7,
   "outputs": [
    {
     "data": {
      "text/plain": "           id  father  mother  gender  trait SNP_01 SNP_02 SNP_03 SNP_04  \\\n0    TEST_000       0       0       0      1    A G    G G    A A    G A   \n1    TEST_001       0       0       0      2    G G    A G    C C    G G   \n2    TEST_002       0       0       0      2    G G    A G    A A    A A   \n3    TEST_003       0       0       0      2    G G    A G    C A    A A   \n4    TEST_004       0       0       0      1    A A    G G    A A    G G   \n..        ...     ...     ...     ...    ...    ...    ...    ...    ...   \n170  TEST_170       0       0       0      2    A G    G G    C C    A A   \n171  TEST_171       0       0       0      2    G G    A A    A A    A A   \n172  TEST_172       0       0       0      2    G G    A A    A A    A A   \n173  TEST_173       0       0       0      2    A G    G G    C A    G A   \n174  TEST_174       0       0       0      2    G G    G G    C C    G A   \n\n    SNP_05 SNP_06 SNP_07 SNP_08 SNP_09 SNP_10 SNP_11 SNP_12 SNP_13 SNP_14  \\\n0      A A    A G    G G    G A    G A    A G    A G    G A    G G    C A   \n1      C C    A A    A A    A A    A A    G G    A G    A A    A A    A A   \n2      C A    A G    A A    A A    A A    A G    A A    G A    G G    A A   \n3      C C    A A    A A    A A    A A    G G    A A    G A    A G    A A   \n4      A A    G G    G G    A A    G G    A G    G G    G A    G G    A A   \n..     ...    ...    ...    ...    ...    ...    ...    ...    ...    ...   \n170    C A    A G    A A    G G    A A    G G    G G    A A    A A    A A   \n171    C A    A G    A A    A A    A A    A G    A A    A A    A G    A A   \n172    C A    A G    A A    A A    A A    G G    A G    A A    A G    A A   \n173    C C    G G    A A    G A    A A    G G    A G    A A    A A    A A   \n174    C A    A A    G A    G G    A A    G G    G G    A A    A A    A A   \n\n    SNP_15  \n0      G A  \n1      A A  \n2      G G  \n3      A A  \n4      G G  \n..     ...  \n170    G A  \n171    G A  \n172    G G  \n173    A A  \n174    A A  \n\n[175 rows x 20 columns]",
      "text/html": "<div>\n<style scoped>\n    .dataframe tbody tr th:only-of-type {\n        vertical-align: middle;\n    }\n\n    .dataframe tbody tr th {\n        vertical-align: top;\n    }\n\n    .dataframe thead th {\n        text-align: right;\n    }\n</style>\n<table border=\"1\" class=\"dataframe\">\n  <thead>\n    <tr style=\"text-align: right;\">\n      <th></th>\n      <th>id</th>\n      <th>father</th>\n      <th>mother</th>\n      <th>gender</th>\n      <th>trait</th>\n      <th>SNP_01</th>\n      <th>SNP_02</th>\n      <th>SNP_03</th>\n      <th>SNP_04</th>\n      <th>SNP_05</th>\n      <th>SNP_06</th>\n      <th>SNP_07</th>\n      <th>SNP_08</th>\n      <th>SNP_09</th>\n      <th>SNP_10</th>\n      <th>SNP_11</th>\n      <th>SNP_12</th>\n      <th>SNP_13</th>\n      <th>SNP_14</th>\n      <th>SNP_15</th>\n    </tr>\n  </thead>\n  <tbody>\n    <tr>\n      <th>0</th>\n      <td>TEST_000</td>\n      <td>0</td>\n      <td>0</td>\n      <td>0</td>\n      <td>1</td>\n      <td>A G</td>\n      <td>G G</td>\n      <td>A A</td>\n      <td>G A</td>\n      <td>A A</td>\n      <td>A G</td>\n      <td>G G</td>\n      <td>G A</td>\n      <td>G A</td>\n      <td>A G</td>\n      <td>A G</td>\n      <td>G A</td>\n      <td>G G</td>\n      <td>C A</td>\n      <td>G A</td>\n    </tr>\n    <tr>\n      <th>1</th>\n      <td>TEST_001</td>\n      <td>0</td>\n      <td>0</td>\n      <td>0</td>\n      <td>2</td>\n      <td>G G</td>\n      <td>A G</td>\n      <td>C C</td>\n      <td>G G</td>\n      <td>C C</td>\n      <td>A A</td>\n      <td>A A</td>\n      <td>A A</td>\n      <td>A A</td>\n      <td>G G</td>\n      <td>A G</td>\n      <td>A A</td>\n      <td>A A</td>\n      <td>A A</td>\n      <td>A A</td>\n    </tr>\n    <tr>\n      <th>2</th>\n      <td>TEST_002</td>\n      <td>0</td>\n      <td>0</td>\n      <td>0</td>\n      <td>2</td>\n      <td>G G</td>\n      <td>A G</td>\n      <td>A A</td>\n      <td>A A</td>\n      <td>C A</td>\n      <td>A G</td>\n      <td>A A</td>\n      <td>A A</td>\n      <td>A A</td>\n      <td>A G</td>\n      <td>A A</td>\n      <td>G A</td>\n      <td>G G</td>\n      <td>A A</td>\n      <td>G G</td>\n    </tr>\n    <tr>\n      <th>3</th>\n      <td>TEST_003</td>\n      <td>0</td>\n      <td>0</td>\n      <td>0</td>\n      <td>2</td>\n      <td>G G</td>\n      <td>A G</td>\n      <td>C A</td>\n      <td>A A</td>\n      <td>C C</td>\n      <td>A A</td>\n      <td>A A</td>\n      <td>A A</td>\n      <td>A A</td>\n      <td>G G</td>\n      <td>A A</td>\n      <td>G A</td>\n      <td>A G</td>\n      <td>A A</td>\n      <td>A A</td>\n    </tr>\n    <tr>\n      <th>4</th>\n      <td>TEST_004</td>\n      <td>0</td>\n      <td>0</td>\n      <td>0</td>\n      <td>1</td>\n      <td>A A</td>\n      <td>G G</td>\n      <td>A A</td>\n      <td>G G</td>\n      <td>A A</td>\n      <td>G G</td>\n      <td>G G</td>\n      <td>A A</td>\n      <td>G G</td>\n      <td>A G</td>\n      <td>G G</td>\n      <td>G A</td>\n      <td>G G</td>\n      <td>A A</td>\n      <td>G G</td>\n    </tr>\n    <tr>\n      <th>...</th>\n      <td>...</td>\n      <td>...</td>\n      <td>...</td>\n      <td>...</td>\n      <td>...</td>\n      <td>...</td>\n      <td>...</td>\n      <td>...</td>\n      <td>...</td>\n      <td>...</td>\n      <td>...</td>\n      <td>...</td>\n      <td>...</td>\n      <td>...</td>\n      <td>...</td>\n      <td>...</td>\n      <td>...</td>\n      <td>...</td>\n      <td>...</td>\n      <td>...</td>\n    </tr>\n    <tr>\n      <th>170</th>\n      <td>TEST_170</td>\n      <td>0</td>\n      <td>0</td>\n      <td>0</td>\n      <td>2</td>\n      <td>A G</td>\n      <td>G G</td>\n      <td>C C</td>\n      <td>A A</td>\n      <td>C A</td>\n      <td>A G</td>\n      <td>A A</td>\n      <td>G G</td>\n      <td>A A</td>\n      <td>G G</td>\n      <td>G G</td>\n      <td>A A</td>\n      <td>A A</td>\n      <td>A A</td>\n      <td>G A</td>\n    </tr>\n    <tr>\n      <th>171</th>\n      <td>TEST_171</td>\n      <td>0</td>\n      <td>0</td>\n      <td>0</td>\n      <td>2</td>\n      <td>G G</td>\n      <td>A A</td>\n      <td>A A</td>\n      <td>A A</td>\n      <td>C A</td>\n      <td>A G</td>\n      <td>A A</td>\n      <td>A A</td>\n      <td>A A</td>\n      <td>A G</td>\n      <td>A A</td>\n      <td>A A</td>\n      <td>A G</td>\n      <td>A A</td>\n      <td>G A</td>\n    </tr>\n    <tr>\n      <th>172</th>\n      <td>TEST_172</td>\n      <td>0</td>\n      <td>0</td>\n      <td>0</td>\n      <td>2</td>\n      <td>G G</td>\n      <td>A A</td>\n      <td>A A</td>\n      <td>A A</td>\n      <td>C A</td>\n      <td>A G</td>\n      <td>A A</td>\n      <td>A A</td>\n      <td>A A</td>\n      <td>G G</td>\n      <td>A G</td>\n      <td>A A</td>\n      <td>A G</td>\n      <td>A A</td>\n      <td>G G</td>\n    </tr>\n    <tr>\n      <th>173</th>\n      <td>TEST_173</td>\n      <td>0</td>\n      <td>0</td>\n      <td>0</td>\n      <td>2</td>\n      <td>A G</td>\n      <td>G G</td>\n      <td>C A</td>\n      <td>G A</td>\n      <td>C C</td>\n      <td>G G</td>\n      <td>A A</td>\n      <td>G A</td>\n      <td>A A</td>\n      <td>G G</td>\n      <td>A G</td>\n      <td>A A</td>\n      <td>A A</td>\n      <td>A A</td>\n      <td>A A</td>\n    </tr>\n    <tr>\n      <th>174</th>\n      <td>TEST_174</td>\n      <td>0</td>\n      <td>0</td>\n      <td>0</td>\n      <td>2</td>\n      <td>G G</td>\n      <td>G G</td>\n      <td>C C</td>\n      <td>G A</td>\n      <td>C A</td>\n      <td>A A</td>\n      <td>G A</td>\n      <td>G G</td>\n      <td>A A</td>\n      <td>G G</td>\n      <td>G G</td>\n      <td>A A</td>\n      <td>A A</td>\n      <td>A A</td>\n      <td>A A</td>\n    </tr>\n  </tbody>\n</table>\n<p>175 rows × 20 columns</p>\n</div>"
     },
     "execution_count": 7,
     "metadata": {},
     "output_type": "execute_result"
    }
   ],
   "source": [
    "test"
   ],
   "metadata": {
    "collapsed": false,
    "pycharm": {
     "name": "#%%\n"
    }
   }
  },
  {
   "cell_type": "code",
   "execution_count": 8,
   "outputs": [],
   "source": [
    "# pr_train = train.profile_report()\n",
    "# pr_test = test.profile_report()"
   ],
   "metadata": {
    "collapsed": false,
    "pycharm": {
     "name": "#%%\n"
    }
   }
  },
  {
   "cell_type": "code",
   "execution_count": 9,
   "outputs": [],
   "source": [
    "# pr_train.to_file('./pr_train_report.html')\n",
    "\n",
    "# pr_test.to_file('./pr_test_report.html')\n",
    "\n"
   ],
   "metadata": {
    "collapsed": false,
    "pycharm": {
     "name": "#%%\n"
    }
   }
  },
  {
   "cell_type": "code",
   "execution_count": 10,
   "id": "72b37f7e-a9f2-4640-8a0c-80ecdc626740",
   "metadata": {
    "pycharm": {
     "name": "#%%\n"
    }
   },
   "outputs": [],
   "source": [
    "def get_x_y(df):\n",
    "    if 'class' in df.columns:\n",
    "        df_x = df.drop(columns=['id', 'class'])\n",
    "        df_y = df['class']\n",
    "        return df_x, df_y\n",
    "    else:\n",
    "        df_x = df.drop(columns=['id'])\n",
    "        return df_x"
   ]
  },
  {
   "cell_type": "code",
   "execution_count": 10,
   "outputs": [],
   "source": [],
   "metadata": {
    "collapsed": false,
    "pycharm": {
     "name": "#%%\n"
    }
   }
  },
  {
   "cell_type": "code",
   "execution_count": 11,
   "id": "05bd5dc3-5caf-4691-a836-d05d79353a5d",
   "metadata": {
    "pycharm": {
     "name": "#%%\n"
    }
   },
   "outputs": [],
   "source": [
    "train_x, train_y = get_x_y(train)\n",
    "test_x = get_x_y(test)"
   ]
  },
  {
   "cell_type": "code",
   "execution_count": 12,
   "outputs": [
    {
     "data": {
      "text/plain": "     father  mother  gender  trait SNP_01 SNP_02 SNP_03 SNP_04 SNP_05 SNP_06  \\\n0         0       0       0      2    G G    A G    A A    G A    C A    A A   \n1         0       0       0      2    A G    A G    C A    A A    A A    A G   \n2         0       0       0      2    G G    G G    A A    G A    C C    G G   \n3         0       0       0      1    A A    G G    A A    G A    A A    G G   \n4         0       0       0      2    G G    G G    C C    A A    C C    A A   \n..      ...     ...     ...    ...    ...    ...    ...    ...    ...    ...   \n257       0       0       0      2    A G    A G    A A    G A    C C    A G   \n258       0       0       0      2    G G    A A    C A    A A    A A    A G   \n259       0       0       0      1    A G    G G    A A    G A    A A    A G   \n260       0       0       0      1    A A    G G    A A    G A    A A    G G   \n261       0       0       0      2    G G    A G    C A    G G    C C    A G   \n\n    SNP_07 SNP_08 SNP_09 SNP_10 SNP_11 SNP_12 SNP_13 SNP_14 SNP_15  \n0      A A    G G    A A    G G    A G    A A    A A    A A    A A  \n1      A A    G A    A A    A G    A A    G A    G G    A A    A A  \n2      A A    G A    G A    A G    A A    A A    A A    A A    A A  \n3      G G    A A    G G    A G    G G    G G    G G    A A    G G  \n4      A A    A A    A A    G G    A A    A A    A G    A A    G A  \n..     ...    ...    ...    ...    ...    ...    ...    ...    ...  \n257    A A    G A    A A    G G    A G    G A    A A    A A    A A  \n258    G A    G A    A A    A G    A G    A A    A G    A A    G A  \n259    G G    G A    G A    A A    G G    G G    G G    C A    G G  \n260    G G    A A    G A    A G    A G    G A    G G    C A    G G  \n261    A A    A A    A A    G G    A A    A A    G G    A A    G A  \n\n[262 rows x 19 columns]",
      "text/html": "<div>\n<style scoped>\n    .dataframe tbody tr th:only-of-type {\n        vertical-align: middle;\n    }\n\n    .dataframe tbody tr th {\n        vertical-align: top;\n    }\n\n    .dataframe thead th {\n        text-align: right;\n    }\n</style>\n<table border=\"1\" class=\"dataframe\">\n  <thead>\n    <tr style=\"text-align: right;\">\n      <th></th>\n      <th>father</th>\n      <th>mother</th>\n      <th>gender</th>\n      <th>trait</th>\n      <th>SNP_01</th>\n      <th>SNP_02</th>\n      <th>SNP_03</th>\n      <th>SNP_04</th>\n      <th>SNP_05</th>\n      <th>SNP_06</th>\n      <th>SNP_07</th>\n      <th>SNP_08</th>\n      <th>SNP_09</th>\n      <th>SNP_10</th>\n      <th>SNP_11</th>\n      <th>SNP_12</th>\n      <th>SNP_13</th>\n      <th>SNP_14</th>\n      <th>SNP_15</th>\n    </tr>\n  </thead>\n  <tbody>\n    <tr>\n      <th>0</th>\n      <td>0</td>\n      <td>0</td>\n      <td>0</td>\n      <td>2</td>\n      <td>G G</td>\n      <td>A G</td>\n      <td>A A</td>\n      <td>G A</td>\n      <td>C A</td>\n      <td>A A</td>\n      <td>A A</td>\n      <td>G G</td>\n      <td>A A</td>\n      <td>G G</td>\n      <td>A G</td>\n      <td>A A</td>\n      <td>A A</td>\n      <td>A A</td>\n      <td>A A</td>\n    </tr>\n    <tr>\n      <th>1</th>\n      <td>0</td>\n      <td>0</td>\n      <td>0</td>\n      <td>2</td>\n      <td>A G</td>\n      <td>A G</td>\n      <td>C A</td>\n      <td>A A</td>\n      <td>A A</td>\n      <td>A G</td>\n      <td>A A</td>\n      <td>G A</td>\n      <td>A A</td>\n      <td>A G</td>\n      <td>A A</td>\n      <td>G A</td>\n      <td>G G</td>\n      <td>A A</td>\n      <td>A A</td>\n    </tr>\n    <tr>\n      <th>2</th>\n      <td>0</td>\n      <td>0</td>\n      <td>0</td>\n      <td>2</td>\n      <td>G G</td>\n      <td>G G</td>\n      <td>A A</td>\n      <td>G A</td>\n      <td>C C</td>\n      <td>G G</td>\n      <td>A A</td>\n      <td>G A</td>\n      <td>G A</td>\n      <td>A G</td>\n      <td>A A</td>\n      <td>A A</td>\n      <td>A A</td>\n      <td>A A</td>\n      <td>A A</td>\n    </tr>\n    <tr>\n      <th>3</th>\n      <td>0</td>\n      <td>0</td>\n      <td>0</td>\n      <td>1</td>\n      <td>A A</td>\n      <td>G G</td>\n      <td>A A</td>\n      <td>G A</td>\n      <td>A A</td>\n      <td>G G</td>\n      <td>G G</td>\n      <td>A A</td>\n      <td>G G</td>\n      <td>A G</td>\n      <td>G G</td>\n      <td>G G</td>\n      <td>G G</td>\n      <td>A A</td>\n      <td>G G</td>\n    </tr>\n    <tr>\n      <th>4</th>\n      <td>0</td>\n      <td>0</td>\n      <td>0</td>\n      <td>2</td>\n      <td>G G</td>\n      <td>G G</td>\n      <td>C C</td>\n      <td>A A</td>\n      <td>C C</td>\n      <td>A A</td>\n      <td>A A</td>\n      <td>A A</td>\n      <td>A A</td>\n      <td>G G</td>\n      <td>A A</td>\n      <td>A A</td>\n      <td>A G</td>\n      <td>A A</td>\n      <td>G A</td>\n    </tr>\n    <tr>\n      <th>...</th>\n      <td>...</td>\n      <td>...</td>\n      <td>...</td>\n      <td>...</td>\n      <td>...</td>\n      <td>...</td>\n      <td>...</td>\n      <td>...</td>\n      <td>...</td>\n      <td>...</td>\n      <td>...</td>\n      <td>...</td>\n      <td>...</td>\n      <td>...</td>\n      <td>...</td>\n      <td>...</td>\n      <td>...</td>\n      <td>...</td>\n      <td>...</td>\n    </tr>\n    <tr>\n      <th>257</th>\n      <td>0</td>\n      <td>0</td>\n      <td>0</td>\n      <td>2</td>\n      <td>A G</td>\n      <td>A G</td>\n      <td>A A</td>\n      <td>G A</td>\n      <td>C C</td>\n      <td>A G</td>\n      <td>A A</td>\n      <td>G A</td>\n      <td>A A</td>\n      <td>G G</td>\n      <td>A G</td>\n      <td>G A</td>\n      <td>A A</td>\n      <td>A A</td>\n      <td>A A</td>\n    </tr>\n    <tr>\n      <th>258</th>\n      <td>0</td>\n      <td>0</td>\n      <td>0</td>\n      <td>2</td>\n      <td>G G</td>\n      <td>A A</td>\n      <td>C A</td>\n      <td>A A</td>\n      <td>A A</td>\n      <td>A G</td>\n      <td>G A</td>\n      <td>G A</td>\n      <td>A A</td>\n      <td>A G</td>\n      <td>A G</td>\n      <td>A A</td>\n      <td>A G</td>\n      <td>A A</td>\n      <td>G A</td>\n    </tr>\n    <tr>\n      <th>259</th>\n      <td>0</td>\n      <td>0</td>\n      <td>0</td>\n      <td>1</td>\n      <td>A G</td>\n      <td>G G</td>\n      <td>A A</td>\n      <td>G A</td>\n      <td>A A</td>\n      <td>A G</td>\n      <td>G G</td>\n      <td>G A</td>\n      <td>G A</td>\n      <td>A A</td>\n      <td>G G</td>\n      <td>G G</td>\n      <td>G G</td>\n      <td>C A</td>\n      <td>G G</td>\n    </tr>\n    <tr>\n      <th>260</th>\n      <td>0</td>\n      <td>0</td>\n      <td>0</td>\n      <td>1</td>\n      <td>A A</td>\n      <td>G G</td>\n      <td>A A</td>\n      <td>G A</td>\n      <td>A A</td>\n      <td>G G</td>\n      <td>G G</td>\n      <td>A A</td>\n      <td>G A</td>\n      <td>A G</td>\n      <td>A G</td>\n      <td>G A</td>\n      <td>G G</td>\n      <td>C A</td>\n      <td>G G</td>\n    </tr>\n    <tr>\n      <th>261</th>\n      <td>0</td>\n      <td>0</td>\n      <td>0</td>\n      <td>2</td>\n      <td>G G</td>\n      <td>A G</td>\n      <td>C A</td>\n      <td>G G</td>\n      <td>C C</td>\n      <td>A G</td>\n      <td>A A</td>\n      <td>A A</td>\n      <td>A A</td>\n      <td>G G</td>\n      <td>A A</td>\n      <td>A A</td>\n      <td>G G</td>\n      <td>A A</td>\n      <td>G A</td>\n    </tr>\n  </tbody>\n</table>\n<p>262 rows × 19 columns</p>\n</div>"
     },
     "execution_count": 12,
     "metadata": {},
     "output_type": "execute_result"
    }
   ],
   "source": [
    "train_x\n"
   ],
   "metadata": {
    "collapsed": false,
    "pycharm": {
     "name": "#%%\n"
    }
   }
  },
  {
   "cell_type": "markdown",
   "id": "8f79fbb3-bdd5-4bf7-bcc2-3776f1de653b",
   "metadata": {
    "pycharm": {
     "name": "#%% md\n"
    }
   },
   "source": [
    "## Data Pre-processing\n",
    "### Label-Encoding"
   ]
  },
  {
   "cell_type": "code",
   "execution_count": 13,
   "id": "689a42a5-140f-4282-9f33-6b319dea89a5",
   "metadata": {
    "pycharm": {
     "name": "#%%\n"
    }
   },
   "outputs": [],
   "source": [
    "class_le = preprocessing.LabelEncoder()\n",
    "snp_le = preprocessing.LabelEncoder()\n",
    "snp_col = [f'SNP_{str(x).zfill(2)}' for x in range(1,16)]"
   ]
  },
  {
   "cell_type": "code",
   "execution_count": 14,
   "id": "2329a4f8-92b2-484d-acbd-2bb8079929e7",
   "metadata": {
    "pycharm": {
     "name": "#%%\n"
    }
   },
   "outputs": [],
   "source": [
    "snp_data = []\n",
    "for col in snp_col:\n",
    "    snp_data += list(train_x[col].values)"
   ]
  },
  {
   "cell_type": "code",
   "execution_count": 15,
   "outputs": [
    {
     "data": {
      "text/plain": "['G G',\n 'A G',\n 'G G',\n 'A A',\n 'G G',\n 'G G',\n 'G G',\n 'G G',\n 'G G',\n 'G G',\n 'G G',\n 'G G',\n 'G G',\n 'A G',\n 'G G',\n 'A A',\n 'A A',\n 'A G',\n 'A A',\n 'G G',\n 'G G',\n 'G G',\n 'A A',\n 'G G',\n 'G G',\n 'G G',\n 'G G',\n 'G G',\n 'G G',\n 'A G',\n 'G G',\n 'A A',\n 'G G',\n 'A G',\n 'A A',\n 'A A',\n 'G G',\n 'A A',\n 'G G',\n 'G G',\n 'G G',\n 'G G',\n 'G G',\n 'A A',\n 'G G',\n 'G G',\n 'G G',\n 'A A',\n 'G G',\n 'A A',\n 'A A',\n 'G G',\n 'A A',\n 'G G',\n 'G G',\n 'G G',\n 'A A',\n 'A A',\n 'G G',\n 'A A',\n 'G G',\n 'A A',\n 'A A',\n 'A G',\n 'A G',\n 'A A',\n 'G G',\n 'A A',\n 'G G',\n 'G G',\n 'A G',\n 'A G',\n 'A A',\n 'A G',\n 'G G',\n 'A G',\n 'G G',\n 'G G',\n 'G G',\n 'A A',\n 'A G',\n 'G G',\n 'A G',\n 'A G',\n 'G G',\n 'A A',\n 'G G',\n 'G G',\n 'G G',\n 'G G',\n 'G G',\n 'G G',\n 'G G',\n 'G G',\n 'G G',\n 'G G',\n 'A G',\n 'A A',\n 'A G',\n 'A G',\n 'A G',\n 'G G',\n 'A G',\n 'G G',\n 'A A',\n 'A G',\n 'G G',\n 'G G',\n 'G G',\n 'A G',\n 'G G',\n 'G G',\n 'A G',\n 'A G',\n 'G G',\n 'G G',\n 'G G',\n 'A A',\n 'A G',\n 'A G',\n 'G G',\n 'G G',\n 'G G',\n 'A G',\n 'A A',\n 'G G',\n 'G G',\n 'A A',\n 'G G',\n 'G G',\n 'G G',\n 'A A',\n 'G G',\n 'G G',\n 'A A',\n 'G G',\n 'A G',\n 'A A',\n 'A A',\n 'G G',\n 'G G',\n 'G G',\n 'A G',\n 'A G',\n 'G G',\n 'A G',\n 'A G',\n 'A G',\n 'A G',\n 'G G',\n 'G G',\n 'A G',\n 'G G',\n 'A G',\n 'A G',\n 'A A',\n 'G G',\n 'G G',\n 'G G',\n 'G G',\n 'A G',\n 'A A',\n 'G G',\n 'A G',\n 'G G',\n 'G G',\n 'G G',\n 'A A',\n 'G G',\n 'G G',\n 'A G',\n 'A G',\n 'A G',\n 'G G',\n 'G G',\n 'G G',\n 'G G',\n 'A A',\n 'A G',\n 'A G',\n 'A A',\n 'G G',\n 'A A',\n 'A G',\n 'A G',\n 'A G',\n 'A G',\n 'G G',\n 'G G',\n 'G G',\n 'G G',\n 'G G',\n 'G G',\n 'G G',\n 'A A',\n 'G G',\n 'A G',\n 'G G',\n 'G G',\n 'G G',\n 'A G',\n 'G G',\n 'A A',\n 'G G',\n 'A A',\n 'A G',\n 'G G',\n 'G G',\n 'G G',\n 'A G',\n 'G G',\n 'A G',\n 'A A',\n 'A A',\n 'G G',\n 'A G',\n 'A G',\n 'A G',\n 'G G',\n 'G G',\n 'A G',\n 'A G',\n 'G G',\n 'G G',\n 'A G',\n 'G G',\n 'G G',\n 'G G',\n 'A G',\n 'A A',\n 'G G',\n 'G G',\n 'A G',\n 'G G',\n 'G G',\n 'G G',\n 'A G',\n 'A A',\n 'A G',\n 'A A',\n 'A A',\n 'A G',\n 'G G',\n 'A G',\n 'G G',\n 'G G',\n 'A G',\n 'G G',\n 'A G',\n 'G G',\n 'A G',\n 'G G',\n 'G G',\n 'A A',\n 'A G',\n 'A G',\n 'G G',\n 'A G',\n 'G G',\n 'A G',\n 'A A',\n 'G G',\n 'A G',\n 'A G',\n 'G G',\n 'G G',\n 'G G',\n 'G G',\n 'A G',\n 'G G',\n 'A A',\n 'G G',\n 'A G',\n 'A G',\n 'A G',\n 'A A',\n 'G G',\n 'G G',\n 'G G',\n 'A G',\n 'G G',\n 'A G',\n 'A G',\n 'A G',\n 'G G',\n 'A G',\n 'A A',\n 'A G',\n 'G G',\n 'G G',\n 'G G',\n 'G G',\n 'A G',\n 'G G',\n 'A G',\n 'G G',\n 'A G',\n 'A A',\n 'A G',\n 'G G',\n 'A A',\n 'A A',\n 'A G',\n 'A G',\n 'A A',\n 'A G',\n 'A A',\n 'A G',\n 'A A',\n 'G G',\n 'A G',\n 'G G',\n 'G G',\n 'A A',\n 'G G',\n 'A A',\n 'A G',\n 'A A',\n 'G G',\n 'G G',\n 'A G',\n 'A A',\n 'A G',\n 'G G',\n 'A G',\n 'A A',\n 'G G',\n 'A A',\n 'A A',\n 'G G',\n 'G G',\n 'A A',\n 'A A',\n 'A G',\n 'G G',\n 'A A',\n 'A G',\n 'G G',\n 'A A',\n 'G G',\n 'A A',\n 'G G',\n 'G G',\n 'A G',\n 'A A',\n 'G G',\n 'A A',\n 'G G',\n 'A A',\n 'A A',\n 'A G',\n 'G G',\n 'A G',\n 'G G',\n 'A A',\n 'G G',\n 'A G',\n 'A G',\n 'A G',\n 'G G',\n 'G G',\n 'G G',\n 'G G',\n 'G G',\n 'G G',\n 'A A',\n 'G G',\n 'G G',\n 'G G',\n 'A A',\n 'A A',\n 'A A',\n 'A A',\n 'A G',\n 'A G',\n 'A G',\n 'G G',\n 'A G',\n 'A G',\n 'G G',\n 'G G',\n 'G G',\n 'A G',\n 'G G',\n 'A A',\n 'A G',\n 'G G',\n 'G G',\n 'G G',\n 'G G',\n 'A G',\n 'A G',\n 'A G',\n 'G G',\n 'G G',\n 'A G',\n 'G G',\n 'A G',\n 'A G',\n 'G G',\n 'A G',\n 'G G',\n 'G G',\n 'A G',\n 'A G',\n 'A G',\n 'A G',\n 'A A',\n 'A A',\n 'A G',\n 'G G',\n 'A G',\n 'G G',\n 'A G',\n 'A A',\n 'A A',\n 'A G',\n 'G G',\n 'A G',\n 'G G',\n 'G G',\n 'G G',\n 'A A',\n 'G G',\n 'G G',\n 'G G',\n 'A G',\n 'A G',\n 'A G',\n 'G G',\n 'G G',\n 'A A',\n 'A A',\n 'G G',\n 'A G',\n 'A G',\n 'A G',\n 'A A',\n 'A G',\n 'G G',\n 'A G',\n 'G G',\n 'G G',\n 'A A',\n 'G G',\n 'A A',\n 'A A',\n 'A A',\n 'A G',\n 'A G',\n 'G G',\n 'A A',\n 'A A',\n 'A G',\n 'A G',\n 'A G',\n 'G G',\n 'A G',\n 'A A',\n 'A A',\n 'A G',\n 'A A',\n 'G G',\n 'G G',\n 'G G',\n 'A A',\n 'G G',\n 'A G',\n 'A G',\n 'A G',\n 'A A',\n 'A A',\n 'G G',\n 'A G',\n 'G G',\n 'G G',\n 'A A',\n 'A G',\n 'G G',\n 'G G',\n 'A G',\n 'G G',\n 'G G',\n 'A G',\n 'G G',\n 'A G',\n 'A G',\n 'A A',\n 'A G',\n 'G G',\n 'A G',\n 'G G',\n 'A A',\n 'A G',\n 'A G',\n 'G G',\n 'A G',\n 'A G',\n 'A G',\n 'G G',\n 'A G',\n 'G G',\n 'G G',\n 'A G',\n 'A G',\n 'G G',\n 'A G',\n 'G G',\n 'G G',\n 'A G',\n 'G G',\n 'A G',\n 'G G',\n 'A A',\n 'A G',\n 'G G',\n 'A G',\n 'G G',\n 'G G',\n 'A G',\n 'A A',\n 'G G',\n 'G G',\n 'A G',\n 'A A',\n 'C A',\n 'A A',\n 'A A',\n 'C C',\n 'C A',\n 'C A',\n 'C C',\n 'C A',\n 'C A',\n 'C A',\n 'C C',\n 'C C',\n 'C A',\n 'A A',\n 'A A',\n 'A A',\n 'A A',\n 'A A',\n 'A A',\n 'C A',\n 'C C',\n 'A A',\n 'C C',\n 'C C',\n 'A A',\n 'C C',\n 'A A',\n 'C C',\n 'A A',\n 'C C',\n 'A A',\n 'C C',\n 'A A',\n 'A A',\n 'A A',\n 'A A',\n 'A A',\n 'C C',\n 'C C',\n 'C A',\n 'C A',\n 'C A',\n 'A A',\n 'A A',\n 'A A',\n 'C A',\n 'A A',\n 'C A',\n 'A A',\n 'A A',\n 'A A',\n 'A A',\n 'A A',\n 'C A',\n 'C A',\n 'A A',\n 'A A',\n 'C C',\n 'C A',\n 'C C',\n 'A A',\n 'A A',\n 'A A',\n 'A A',\n 'A A',\n 'C C',\n 'A A',\n 'C A',\n 'A A',\n 'C A',\n 'C A',\n 'A A',\n 'A A',\n 'C A',\n 'C A',\n 'A A',\n 'C A',\n 'C A',\n 'A A',\n 'C A',\n 'C A',\n 'A A',\n 'A A',\n 'C C',\n 'A A',\n 'C A',\n 'C A',\n 'A A',\n 'A A',\n 'C A',\n 'C C',\n 'C C',\n 'C A',\n 'C A',\n 'C A',\n 'C C',\n 'A A',\n 'A A',\n 'C C',\n 'A A',\n 'C C',\n 'A A',\n 'C A',\n 'A A',\n 'C A',\n 'A A',\n 'C A',\n 'C A',\n 'C C',\n 'C A',\n 'C C',\n 'C A',\n 'C C',\n 'C A',\n 'C A',\n 'A A',\n 'A A',\n 'A A',\n 'C A',\n 'C A',\n 'C A',\n 'A A',\n 'A A',\n 'A A',\n 'C A',\n 'C A',\n 'A A',\n 'A A',\n 'C A',\n 'C A',\n 'A A',\n 'C C',\n 'C A',\n 'A A',\n 'C C',\n 'A A',\n 'A A',\n 'C A',\n 'C A',\n 'C A',\n 'C A',\n 'A A',\n 'A A',\n 'C A',\n 'C A',\n 'A A',\n 'C A',\n 'A A',\n 'C C',\n 'A A',\n 'C A',\n 'C A',\n 'C A',\n 'C C',\n 'A A',\n 'C C',\n 'C A',\n 'C A',\n 'C A',\n 'C C',\n 'A A',\n 'C C',\n 'C A',\n 'C A',\n 'A A',\n 'A A',\n 'A A',\n 'A A',\n 'C A',\n 'C C',\n 'A A',\n 'A A',\n 'A A',\n 'A A',\n 'C A',\n 'C C',\n 'A A',\n 'A A',\n 'A A',\n 'A A',\n 'A A',\n 'A A',\n 'A A',\n 'C A',\n 'A A',\n 'C A',\n 'A A',\n 'C C',\n 'C A',\n 'A A',\n 'A A',\n 'A A',\n 'C C',\n 'A A',\n 'C A',\n 'C A',\n 'A A',\n 'C A',\n 'C A',\n 'A A',\n 'A A',\n 'A A',\n 'C A',\n 'A A',\n 'C A',\n 'C A',\n 'C A',\n 'C A',\n 'C C',\n 'C C',\n 'C A',\n 'A A',\n 'A A',\n 'C C',\n 'C C',\n 'A A',\n 'A A',\n 'A A',\n 'C C',\n 'A A',\n 'C C',\n 'C A',\n 'C A',\n 'A A',\n 'A A',\n 'C A',\n 'C A',\n 'C A',\n 'A A',\n 'C C',\n 'C C',\n 'A A',\n 'A A',\n 'C A',\n 'C A',\n 'C C',\n 'A A',\n 'C C',\n 'A A',\n 'A A',\n 'A A',\n 'C A',\n 'A A',\n 'A A',\n 'C C',\n 'A A',\n 'A A',\n 'A A',\n 'C A',\n 'A A',\n 'C C',\n 'C A',\n 'A A',\n 'C A',\n 'C A',\n 'C A',\n 'A A',\n 'C A',\n 'A A',\n 'A A',\n 'C A',\n 'G A',\n 'A A',\n 'G A',\n 'G A',\n 'A A',\n 'A A',\n 'G A',\n 'G A',\n 'G G',\n 'A A',\n 'G A',\n 'G A',\n 'A A',\n 'G A',\n 'G G',\n 'G G',\n 'G G',\n 'G G',\n 'G A',\n 'A A',\n 'G A',\n 'A A',\n 'G A',\n 'G A',\n 'A A',\n 'G A',\n 'G A',\n 'A A',\n 'G A',\n 'G A',\n 'A A',\n 'G G',\n 'G A',\n 'G A',\n 'G A',\n 'A A',\n 'G A',\n 'G A',\n 'G A',\n 'A A',\n 'A A',\n 'A A',\n 'G A',\n 'G G',\n 'G A',\n 'G A',\n 'G A',\n 'G A',\n 'A A',\n 'G A',\n 'A A',\n 'A A',\n 'G G',\n 'A A',\n 'G A',\n 'G A',\n 'G G',\n 'G G',\n 'A A',\n 'A A',\n 'A A',\n 'G A',\n 'A A',\n 'A A',\n 'G A',\n 'A A',\n 'A A',\n 'G G',\n 'G G',\n 'A A',\n 'A A',\n 'A A',\n 'G A',\n 'G A',\n 'G A',\n 'A A',\n 'G A',\n 'A A',\n 'A A',\n 'G A',\n 'A A',\n 'A A',\n 'A A',\n 'G A',\n 'A A',\n 'G A',\n 'A A',\n 'A A',\n 'A A',\n 'A A',\n 'A A',\n 'G A',\n 'A A',\n 'A A',\n 'A A',\n 'A A',\n 'G A',\n 'G A',\n 'G A',\n 'A A',\n 'G G',\n 'G A',\n 'G G',\n 'A A',\n 'G G',\n 'A A',\n 'G A',\n 'G A',\n 'A A',\n 'G A',\n 'G A',\n 'G A',\n 'G G',\n 'A A',\n 'A A',\n 'A A',\n 'G G',\n 'G G',\n 'A A',\n 'G A',\n 'G A',\n 'A A',\n 'A A',\n 'G G',\n 'G G',\n 'G A',\n 'G A',\n 'G G',\n 'A A',\n 'A A',\n 'A A',\n 'G A',\n 'G A',\n 'A A',\n 'G G',\n 'A A',\n 'A A',\n 'G G',\n 'A A',\n 'G A',\n 'G A',\n 'A A',\n 'A A',\n 'G G',\n 'A A',\n 'A A',\n 'A A',\n 'A A',\n 'G A',\n 'A A',\n 'G G',\n 'A A',\n 'A A',\n 'A A',\n 'A A',\n 'A A',\n 'G A',\n 'A A',\n 'G G',\n 'G A',\n 'G A',\n 'G A',\n 'A A',\n 'A A',\n 'G A',\n 'A A',\n 'G A',\n 'G G',\n 'G G',\n 'A A',\n 'A A',\n 'G G',\n 'G A',\n 'A A',\n 'A A',\n 'A A',\n 'A A',\n 'G G',\n 'A A',\n 'G A',\n 'G A',\n 'A A',\n 'G A',\n 'A A',\n 'G A',\n 'A A',\n 'A A',\n 'A A',\n 'A A',\n 'A A',\n 'G A',\n 'A A',\n 'A A',\n 'G A',\n 'G G',\n 'G A',\n 'G A',\n 'G A',\n 'A A',\n 'A A',\n 'G G',\n 'A A',\n 'G G',\n 'A A',\n 'G A',\n 'A A',\n 'A A',\n 'G G',\n 'A A',\n 'G G',\n 'A A',\n 'A A',\n 'G A',\n 'G G',\n ...]"
     },
     "execution_count": 15,
     "metadata": {},
     "output_type": "execute_result"
    }
   ],
   "source": [
    "snp_data"
   ],
   "metadata": {
    "collapsed": false,
    "pycharm": {
     "name": "#%%\n"
    }
   }
  },
  {
   "cell_type": "code",
   "execution_count": 16,
   "id": "be7c4c4e-9c40-4c2e-bbce-5109dc16e802",
   "metadata": {
    "pycharm": {
     "name": "#%%\n"
    }
   },
   "outputs": [
    {
     "data": {
      "text/plain": "LabelEncoder()",
      "text/html": "<style>#sk-container-id-1 {color: black;background-color: white;}#sk-container-id-1 pre{padding: 0;}#sk-container-id-1 div.sk-toggleable {background-color: white;}#sk-container-id-1 label.sk-toggleable__label {cursor: pointer;display: block;width: 100%;margin-bottom: 0;padding: 0.3em;box-sizing: border-box;text-align: center;}#sk-container-id-1 label.sk-toggleable__label-arrow:before {content: \"▸\";float: left;margin-right: 0.25em;color: #696969;}#sk-container-id-1 label.sk-toggleable__label-arrow:hover:before {color: black;}#sk-container-id-1 div.sk-estimator:hover label.sk-toggleable__label-arrow:before {color: black;}#sk-container-id-1 div.sk-toggleable__content {max-height: 0;max-width: 0;overflow: hidden;text-align: left;background-color: #f0f8ff;}#sk-container-id-1 div.sk-toggleable__content pre {margin: 0.2em;color: black;border-radius: 0.25em;background-color: #f0f8ff;}#sk-container-id-1 input.sk-toggleable__control:checked~div.sk-toggleable__content {max-height: 200px;max-width: 100%;overflow: auto;}#sk-container-id-1 input.sk-toggleable__control:checked~label.sk-toggleable__label-arrow:before {content: \"▾\";}#sk-container-id-1 div.sk-estimator input.sk-toggleable__control:checked~label.sk-toggleable__label {background-color: #d4ebff;}#sk-container-id-1 div.sk-label input.sk-toggleable__control:checked~label.sk-toggleable__label {background-color: #d4ebff;}#sk-container-id-1 input.sk-hidden--visually {border: 0;clip: rect(1px 1px 1px 1px);clip: rect(1px, 1px, 1px, 1px);height: 1px;margin: -1px;overflow: hidden;padding: 0;position: absolute;width: 1px;}#sk-container-id-1 div.sk-estimator {font-family: monospace;background-color: #f0f8ff;border: 1px dotted black;border-radius: 0.25em;box-sizing: border-box;margin-bottom: 0.5em;}#sk-container-id-1 div.sk-estimator:hover {background-color: #d4ebff;}#sk-container-id-1 div.sk-parallel-item::after {content: \"\";width: 100%;border-bottom: 1px solid gray;flex-grow: 1;}#sk-container-id-1 div.sk-label:hover label.sk-toggleable__label {background-color: #d4ebff;}#sk-container-id-1 div.sk-serial::before {content: \"\";position: absolute;border-left: 1px solid gray;box-sizing: border-box;top: 0;bottom: 0;left: 50%;z-index: 0;}#sk-container-id-1 div.sk-serial {display: flex;flex-direction: column;align-items: center;background-color: white;padding-right: 0.2em;padding-left: 0.2em;position: relative;}#sk-container-id-1 div.sk-item {position: relative;z-index: 1;}#sk-container-id-1 div.sk-parallel {display: flex;align-items: stretch;justify-content: center;background-color: white;position: relative;}#sk-container-id-1 div.sk-item::before, #sk-container-id-1 div.sk-parallel-item::before {content: \"\";position: absolute;border-left: 1px solid gray;box-sizing: border-box;top: 0;bottom: 0;left: 50%;z-index: -1;}#sk-container-id-1 div.sk-parallel-item {display: flex;flex-direction: column;z-index: 1;position: relative;background-color: white;}#sk-container-id-1 div.sk-parallel-item:first-child::after {align-self: flex-end;width: 50%;}#sk-container-id-1 div.sk-parallel-item:last-child::after {align-self: flex-start;width: 50%;}#sk-container-id-1 div.sk-parallel-item:only-child::after {width: 0;}#sk-container-id-1 div.sk-dashed-wrapped {border: 1px dashed gray;margin: 0 0.4em 0.5em 0.4em;box-sizing: border-box;padding-bottom: 0.4em;background-color: white;}#sk-container-id-1 div.sk-label label {font-family: monospace;font-weight: bold;display: inline-block;line-height: 1.2em;}#sk-container-id-1 div.sk-label-container {text-align: center;}#sk-container-id-1 div.sk-container {/* jupyter's `normalize.less` sets `[hidden] { display: none; }` but bootstrap.min.css set `[hidden] { display: none !important; }` so we also need the `!important` here to be able to override the default hidden behavior on the sphinx rendered scikit-learn.org. See: https://github.com/scikit-learn/scikit-learn/issues/21755 */display: inline-block !important;position: relative;}#sk-container-id-1 div.sk-text-repr-fallback {display: none;}</style><div id=\"sk-container-id-1\" class=\"sk-top-container\"><div class=\"sk-text-repr-fallback\"><pre>LabelEncoder()</pre><b>In a Jupyter environment, please rerun this cell to show the HTML representation or trust the notebook. <br />On GitHub, the HTML representation is unable to render, please try loading this page with nbviewer.org.</b></div><div class=\"sk-container\" hidden><div class=\"sk-item\"><div class=\"sk-estimator sk-toggleable\"><input class=\"sk-toggleable__control sk-hidden--visually\" id=\"sk-estimator-id-1\" type=\"checkbox\" checked><label for=\"sk-estimator-id-1\" class=\"sk-toggleable__label sk-toggleable__label-arrow\">LabelEncoder</label><div class=\"sk-toggleable__content\"><pre>LabelEncoder()</pre></div></div></div></div></div>"
     },
     "execution_count": 16,
     "metadata": {},
     "output_type": "execute_result"
    }
   ],
   "source": [
    "train_y = class_le.fit_transform(train_y)\n",
    "snp_le.fit(snp_data)"
   ]
  },
  {
   "cell_type": "code",
   "execution_count": 17,
   "id": "6a6855cf-8261-45dd-b18b-660aaf0ab141",
   "metadata": {
    "pycharm": {
     "name": "#%%\n"
    }
   },
   "outputs": [],
   "source": [
    "for col in train_x.columns:\n",
    "    if col in snp_col:\n",
    "        train_x[col] = snp_le.transform(train_x[col])\n",
    "        test_x[col] = snp_le.transform(test_x[col])"
   ]
  },
  {
   "cell_type": "markdown",
   "id": "5ba4d960-9c02-4cf2-8af0-0d678dfd2882",
   "metadata": {
    "pycharm": {
     "name": "#%% md\n"
    }
   },
   "source": [
    "## Model Fit"
   ]
  },
  {
   "cell_type": "code",
   "execution_count": 27,
   "id": "b1662762-2a55-4e24-a333-8a8fbc2516e3",
   "metadata": {
    "pycharm": {
     "name": "#%%\n"
    }
   },
   "outputs": [
    {
     "data": {
      "text/plain": "DecisionTreeClassifier()",
      "text/html": "<style>#sk-container-id-3 {color: black;background-color: white;}#sk-container-id-3 pre{padding: 0;}#sk-container-id-3 div.sk-toggleable {background-color: white;}#sk-container-id-3 label.sk-toggleable__label {cursor: pointer;display: block;width: 100%;margin-bottom: 0;padding: 0.3em;box-sizing: border-box;text-align: center;}#sk-container-id-3 label.sk-toggleable__label-arrow:before {content: \"▸\";float: left;margin-right: 0.25em;color: #696969;}#sk-container-id-3 label.sk-toggleable__label-arrow:hover:before {color: black;}#sk-container-id-3 div.sk-estimator:hover label.sk-toggleable__label-arrow:before {color: black;}#sk-container-id-3 div.sk-toggleable__content {max-height: 0;max-width: 0;overflow: hidden;text-align: left;background-color: #f0f8ff;}#sk-container-id-3 div.sk-toggleable__content pre {margin: 0.2em;color: black;border-radius: 0.25em;background-color: #f0f8ff;}#sk-container-id-3 input.sk-toggleable__control:checked~div.sk-toggleable__content {max-height: 200px;max-width: 100%;overflow: auto;}#sk-container-id-3 input.sk-toggleable__control:checked~label.sk-toggleable__label-arrow:before {content: \"▾\";}#sk-container-id-3 div.sk-estimator input.sk-toggleable__control:checked~label.sk-toggleable__label {background-color: #d4ebff;}#sk-container-id-3 div.sk-label input.sk-toggleable__control:checked~label.sk-toggleable__label {background-color: #d4ebff;}#sk-container-id-3 input.sk-hidden--visually {border: 0;clip: rect(1px 1px 1px 1px);clip: rect(1px, 1px, 1px, 1px);height: 1px;margin: -1px;overflow: hidden;padding: 0;position: absolute;width: 1px;}#sk-container-id-3 div.sk-estimator {font-family: monospace;background-color: #f0f8ff;border: 1px dotted black;border-radius: 0.25em;box-sizing: border-box;margin-bottom: 0.5em;}#sk-container-id-3 div.sk-estimator:hover {background-color: #d4ebff;}#sk-container-id-3 div.sk-parallel-item::after {content: \"\";width: 100%;border-bottom: 1px solid gray;flex-grow: 1;}#sk-container-id-3 div.sk-label:hover label.sk-toggleable__label {background-color: #d4ebff;}#sk-container-id-3 div.sk-serial::before {content: \"\";position: absolute;border-left: 1px solid gray;box-sizing: border-box;top: 0;bottom: 0;left: 50%;z-index: 0;}#sk-container-id-3 div.sk-serial {display: flex;flex-direction: column;align-items: center;background-color: white;padding-right: 0.2em;padding-left: 0.2em;position: relative;}#sk-container-id-3 div.sk-item {position: relative;z-index: 1;}#sk-container-id-3 div.sk-parallel {display: flex;align-items: stretch;justify-content: center;background-color: white;position: relative;}#sk-container-id-3 div.sk-item::before, #sk-container-id-3 div.sk-parallel-item::before {content: \"\";position: absolute;border-left: 1px solid gray;box-sizing: border-box;top: 0;bottom: 0;left: 50%;z-index: -1;}#sk-container-id-3 div.sk-parallel-item {display: flex;flex-direction: column;z-index: 1;position: relative;background-color: white;}#sk-container-id-3 div.sk-parallel-item:first-child::after {align-self: flex-end;width: 50%;}#sk-container-id-3 div.sk-parallel-item:last-child::after {align-self: flex-start;width: 50%;}#sk-container-id-3 div.sk-parallel-item:only-child::after {width: 0;}#sk-container-id-3 div.sk-dashed-wrapped {border: 1px dashed gray;margin: 0 0.4em 0.5em 0.4em;box-sizing: border-box;padding-bottom: 0.4em;background-color: white;}#sk-container-id-3 div.sk-label label {font-family: monospace;font-weight: bold;display: inline-block;line-height: 1.2em;}#sk-container-id-3 div.sk-label-container {text-align: center;}#sk-container-id-3 div.sk-container {/* jupyter's `normalize.less` sets `[hidden] { display: none; }` but bootstrap.min.css set `[hidden] { display: none !important; }` so we also need the `!important` here to be able to override the default hidden behavior on the sphinx rendered scikit-learn.org. See: https://github.com/scikit-learn/scikit-learn/issues/21755 */display: inline-block !important;position: relative;}#sk-container-id-3 div.sk-text-repr-fallback {display: none;}</style><div id=\"sk-container-id-3\" class=\"sk-top-container\"><div class=\"sk-text-repr-fallback\"><pre>DecisionTreeClassifier()</pre><b>In a Jupyter environment, please rerun this cell to show the HTML representation or trust the notebook. <br />On GitHub, the HTML representation is unable to render, please try loading this page with nbviewer.org.</b></div><div class=\"sk-container\" hidden><div class=\"sk-item\"><div class=\"sk-estimator sk-toggleable\"><input class=\"sk-toggleable__control sk-hidden--visually\" id=\"sk-estimator-id-3\" type=\"checkbox\" checked><label for=\"sk-estimator-id-3\" class=\"sk-toggleable__label sk-toggleable__label-arrow\">DecisionTreeClassifier</label><div class=\"sk-toggleable__content\"><pre>DecisionTreeClassifier()</pre></div></div></div></div></div>"
     },
     "execution_count": 27,
     "metadata": {},
     "output_type": "execute_result"
    }
   ],
   "source": [
    "clf = DecisionTreeClassifier()\n",
    "clf.fit(train_x, train_y)"
   ]
  },
  {
   "cell_type": "code",
   "execution_count": 28,
   "outputs": [
    {
     "data": {
      "text/plain": "<Figure size 800x600 with 1 Axes>",
      "image/png": "[encoded data removed]"
     },
     "metadata": {},
     "output_type": "display_data"
    }
   ],
   "source": [
    "import matplotlib.pyplot as plt\n",
    "import seaborn as sns\n",
    "%matplotlib inline\n",
    "\n",
    "ftr_importances_values = clf.feature_importances_\n",
    "ftr_importances = pd.Series(ftr_importances_values, index = train_x.columns)\n",
    "ftr_top20 = ftr_importances.sort_values(ascending=False)[:20]\n",
    "\n",
    "plt.figure(figsize=(8,6))\n",
    "plt.title('Top 20 Feature Importances')\n",
    "sns.barplot(x=ftr_top20, y=ftr_top20.index)\n",
    "plt.show()"
   ],
   "metadata": {
    "collapsed": false,
    "pycharm": {
     "name": "#%%\n"
    }
   }
  },
  {
   "cell_type": "markdown",
   "id": "f7611963-8c2f-484a-8d9f-01b89db7d162",
   "metadata": {
    "pycharm": {
     "name": "#%% md\n"
    }
   },
   "source": [
    "## Inference"
   ]
  },
  {
   "cell_type": "code",
   "execution_count": 29,
   "id": "971e792e-abe0-4e31-a08c-91447057b15a",
   "metadata": {
    "pycharm": {
     "name": "#%%\n"
    }
   },
   "outputs": [
    {
     "name": "stdout",
     "output_type": "stream",
     "text": [
      "Done.\n"
     ]
    }
   ],
   "source": [
    "preds = clf.predict(test_x)\n",
    "print('Done.')"
   ]
  },
  {
   "cell_type": "markdown",
   "id": "bd16b405-8a2d-4567-aebf-79ad596a1cd9",
   "metadata": {
    "pycharm": {
     "name": "#%% md\n"
    }
   },
   "source": [
    "## Submission"
   ]
  },
  {
   "cell_type": "code",
   "execution_count": 30,
   "id": "4fd0adb4-81ad-4474-8d31-51dff217f5c0",
   "metadata": {
    "pycharm": {
     "name": "#%%\n"
    }
   },
   "outputs": [],
   "source": [
    "submit = pd.read_csv('./sample_submission.csv')"
   ]
  },
  {
   "cell_type": "code",
   "execution_count": 31,
   "id": "2875bcba-91d1-4ecc-a839-370a16f14b54",
   "metadata": {
    "pycharm": {
     "name": "#%%\n"
    }
   },
   "outputs": [],
   "source": [
    "submit['class'] = class_le.inverse_transform(preds)"
   ]
  },
  {
   "cell_type": "code",
   "execution_count": 36,
   "outputs": [],
   "source": [
    "# submit.to_csv('./answer/decision_submit.csv', index=False)"
   ],
   "metadata": {
    "collapsed": false,
    "pycharm": {
     "name": "#%%\n"
    }
   }
  },
  {
   "cell_type": "code",
   "execution_count": 33,
   "outputs": [],
   "source": [
    "compare = pd.read_csv('./answer/submit.csv')"
   ],
   "metadata": {
    "collapsed": false,
    "pycharm": {
     "name": "#%%\n"
    }
   }
  },
  {
   "cell_type": "code",
   "execution_count": 34,
   "outputs": [
    {
     "data": {
      "text/plain": "    0   1   2\n0  51   0   0\n1   0  80   1\n2   0   6  37",
      "text/html": "<div>\n<style scoped>\n    .dataframe tbody tr th:only-of-type {\n        vertical-align: middle;\n    }\n\n    .dataframe tbody tr th {\n        vertical-align: top;\n    }\n\n    .dataframe thead th {\n        text-align: right;\n    }\n</style>\n<table border=\"1\" class=\"dataframe\">\n  <thead>\n    <tr style=\"text-align: right;\">\n      <th></th>\n      <th>0</th>\n      <th>1</th>\n      <th>2</th>\n    </tr>\n  </thead>\n  <tbody>\n    <tr>\n      <th>0</th>\n      <td>51</td>\n      <td>0</td>\n      <td>0</td>\n    </tr>\n    <tr>\n      <th>1</th>\n      <td>0</td>\n      <td>80</td>\n      <td>1</td>\n    </tr>\n    <tr>\n      <th>2</th>\n      <td>0</td>\n      <td>6</td>\n      <td>37</td>\n    </tr>\n  </tbody>\n</table>\n</div>"
     },
     "execution_count": 34,
     "metadata": {},
     "output_type": "execute_result"
    }
   ],
   "source": [
    "from sklearn.metrics import classification_report, confusion_matrix,precision_score, recall_score, f1_score\n",
    "import seaborn as sns\n",
    "\n",
    "cm2 = confusion_matrix(submit['class'],compare['class'])\n",
    "cmdf2 = pd.DataFrame(cm2\n",
    "                     # , index=['실제값(N)', '실제값(P)']\n",
    "                     # , columns=['예측값(N)', '예측값(P)']\n",
    "                     )\n",
    "cmdf2"
   ],
   "metadata": {
    "collapsed": false,
    "pycharm": {
     "name": "#%%\n"
    }
   }
  },
  {
   "cell_type": "code",
   "execution_count": 35,
   "outputs": [
    {
     "data": {
      "text/plain": "array([[51,  0,  0],\n       [ 0, 80,  1],\n       [ 0,  6, 37]], dtype=int64)"
     },
     "execution_count": 35,
     "metadata": {},
     "output_type": "execute_result"
    }
   ],
   "source": [
    "cm2"
   ],
   "metadata": {
    "collapsed": false,
    "pycharm": {
     "name": "#%%\n"
    }
   }
  }
 ],
 "metadata": {
  "kernelspec": {
   "display_name": "Python 3 (ipykernel)",
   "language": "python",
   "name": "python3"
  },
  "language_info": {
   "codemirror_mode": {
    "name": "ipython",
    "version": 3
   },
   "file_extension": ".py",
   "mimetype": "text/x-python",
   "name": "python",
   "nbconvert_exporter": "python",
   "pygments_lexer": "ipython3",
   "version": "3.8.3"
  }
 },
 "nbformat": 4,
 "nbformat_minor": 5
}